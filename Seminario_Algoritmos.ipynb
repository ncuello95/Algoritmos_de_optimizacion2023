{
  "nbformat": 4,
  "nbformat_minor": 0,
  "metadata": {
    "colab": {
      "provenance": [],
      "include_colab_link": true
    },
    "kernelspec": {
      "name": "python3",
      "display_name": "Python 3"
    }
  },
  "cells": [
    {
      "cell_type": "markdown",
      "metadata": {
        "id": "view-in-github",
        "colab_type": "text"
      },
      "source": [
        "<a href=\"https://colab.research.google.com/github/ncuello95/Algoritmos_de_optimizacion2023/blob/main/Seminario_Algoritmos.ipynb\" target=\"_parent\"><img src=\"https://colab.research.google.com/assets/colab-badge.svg\" alt=\"Open In Colab\"/></a>"
      ]
    },
    {
      "cell_type": "markdown",
      "metadata": {
        "id": "hVbXYX-RfPWh"
      },
      "source": [
        "# Algoritmos de optimización - Seminario<br>\n",
        "Nombre y Apellidos: Nicolás Emiliano Cuello Oliver  <br>\n",
        "Url: https://github.com/ncuello95/Algoritmos_de_optimizacion2023<br>\n",
        "Problema:\n",
        "\n",
        ">2. Organizar los horarios de partidos de La Liga<br>\n",
        "\n",
        "\n",
        "Descripción del problema:\n",
        "Desde la La Liga de fútbol profesional se pretende organizar los horarios de los partidos de\n",
        "liga de cada jornada. Se conocen algunos datos que nos deben llevar a diseñar un\n",
        "algoritmo que realice la asignación de los partidos a los horarios de forma que maximice\n",
        "la audiencia.\n",
        "\n",
        "\n",
        "(*) La respuesta es obligatoria\n",
        "\n",
        "\n",
        "\n",
        "\n",
        "\n",
        "                                        "
      ]
    },
    {
      "cell_type": "markdown",
      "source": [
        "======================================================================================================================================================================================================================================"
      ],
      "metadata": {
        "id": "1KKJ2MBMGU0Z"
      }
    },
    {
      "cell_type": "markdown",
      "metadata": {
        "id": "3_-exlrTgLd-"
      },
      "source": [
        "**(*)¿Cuantas posibilidades hay sin tener en cuenta las restricciones?<br>**"
      ]
    },
    {
      "cell_type": "markdown",
      "metadata": {
        "id": "WfCUqJyKhPcw"
      },
      "source": [
        "Respuesta"
      ]
    },
    {
      "cell_type": "markdown",
      "source": [
        "Inicialmente lo que se necesita saber es de cuantas posibles maneras pueden agruparse los 20 equipos de a 2, sin repeticiones."
      ],
      "metadata": {
        "id": "hku87PD3VrOj"
      }
    },
    {
      "cell_type": "code",
      "metadata": {
        "id": "iq6Fe32MgpDX",
        "colab": {
          "base_uri": "https://localhost:8080/"
        },
        "outputId": "07d3677d-36c5-4ad2-9a11-2602e3d4c8c9"
      },
      "source": [
        "import itertools\n",
        "import math\n",
        "\n",
        "equipos = ['A1','A2','A3','B1','B2','B3','B4','B5','B6','B7','B8','B9','B10','B11', 'C1','C2','C3','C4','C5','C6']\n",
        "\n",
        "partidos = list(itertools.combinations(equipos, 2))\n",
        "contador = 0\n",
        "lista_partidos = []\n",
        "for partido in partidos:\n",
        "    lista_partidos.append(partido)\n",
        "    contador = contador + 1\n",
        "\n",
        "print('Se pueden generar:',contador,'posibles combinaciones de partidos')"
      ],
      "execution_count": null,
      "outputs": [
        {
          "output_type": "stream",
          "name": "stdout",
          "text": [
            "Se pueden generar: 190 posibles combinaciones de partidos\n"
          ]
        }
      ]
    },
    {
      "cell_type": "markdown",
      "source": [
        "El primer partido puede elegirse de entre las 190 posibilidades existentes:\n",
        "A partir del segundo, los posibles partidos ya se encuentran reducidos en 1 (dado el partido elegido anteriormente) y en n*2 siendo 'n' el numero de veces que aparecen los equipos elegidos\n",
        " en las posibles combinaciones restantes, y 2 los equipos que se enfrentan.\n",
        "\n",
        " Por ej: Si se elige como primer partido (A1,A2)\n",
        " Para el segundo partido ya tengo 1 elegido, es decir, se reduce el numero total de 190 a 189\n",
        " y luego tengo que observar que los equipos A1 y A2 ya no se encuentran disponibles para el segundo partido, y dado que cada uno de ellos aparece 18 veces mas, es preciso restar esta cantidad.\n",
        "\n",
        " Para el resto de partidos se sigue un razonamiento análogo, solo que en lugar de 18 se va reduciendo de a 2.\n",
        "\n",
        " El resutado del siguiente cálculo también responde a la siguiente expresión:\n",
        "`20!/2^10`"
      ],
      "metadata": {
        "id": "zcxoy44v4YoE"
      }
    },
    {
      "cell_type": "code",
      "source": [
        "partido1 = 190\n",
        "print('La primer elección de partidos puede ser de: ',partido1)\n",
        "partido2 = 190-1-18*2\n",
        "print('La segunda elección de partidos puede ser de: ',partido2)\n",
        "partido3 = partido2-1-16*2\n",
        "print('La tercera elección de partidos puede ser de: ',partido3)\n",
        "partido4 = partido3-1-14*2\n",
        "print('La cuarta elección de partidos puede ser de: ',partido4)\n",
        "partido5 = partido4-1-12*2\n",
        "print('La quinta elección de partidos puede ser de: ',partido5)\n",
        "partido6 = partido5-1-10*2\n",
        "print('La sexta elección de partidos puede ser de: ',partido6)\n",
        "partido7 = partido6-1-8*2\n",
        "print('La septima elección de partidos puede ser de: ',partido7)\n",
        "partido8 = partido7-1-6*2\n",
        "print('La octava elección de partidos puede ser de: ',partido8)\n",
        "partido9 = partido8-1-4*2\n",
        "print('La novena elección de partidos puede ser de: ',partido9)\n",
        "partido10 = partido9-1-2*2\n",
        "print('La decima elección de partidos puede ser de: ',partido10)\n",
        "\n",
        "n = partido1*partido2*partido3*partido4*partido5*partido6*partido7*partido8*partido9*partido10\n",
        "\n",
        "print('El número de posibles agrupaciones de partidos de a 10 es de:',n)"
      ],
      "metadata": {
        "colab": {
          "base_uri": "https://localhost:8080/"
        },
        "id": "lc1B43gD1WXi",
        "outputId": "db7983d9-f3ff-4ebe-8179-37b7baea431f"
      },
      "execution_count": null,
      "outputs": [
        {
          "output_type": "stream",
          "name": "stdout",
          "text": [
            "La primer elección de partidos puede ser de:  190\n",
            "La segunda elección de partidos puede ser de:  153\n",
            "La tercera elección de partidos puede ser de:  120\n",
            "La cuarta elección de partidos puede ser de:  91\n",
            "La quinta elección de partidos puede ser de:  66\n",
            "La sexta elección de partidos puede ser de:  45\n",
            "La septima elección de partidos puede ser de:  28\n",
            "La octava elección de partidos puede ser de:  15\n",
            "La novena elección de partidos puede ser de:  6\n",
            "La decima elección de partidos puede ser de:  1\n",
            "El número de posibles agrupaciones de partidos de a 10 es de: 2375880867360000\n"
          ]
        }
      ]
    },
    {
      "cell_type": "markdown",
      "source": [
        "Una vez obtenido este valor, debe tenerse en cuenta como los partidos pueden estar distribuidos. Una posibilidad, sin tener en cuenta ninguna restricción, podría ser elegir el viernes a las 20 para que disputen todos los partidos simultaneamente.\n",
        "\n",
        "Para conocer este nuevo valor de posibles combinaciones, puede pensarse que al elegir uno de los 10 partidos, cada uno podría ubicarse en cualquiera de los 10 horarios disponibles del fin de semana. Con posibilidades de coincidencia entre fechas (lo que no reduciría el espacio de 10 horarios disponibles).\n",
        "\n",
        "Esto hace que cada elección deba multiplicarse por 10. Lo que arroja un nuevo número:"
      ],
      "metadata": {
        "id": "YdTA-bAJ4yum"
      }
    },
    {
      "cell_type": "code",
      "source": [
        "combinaciones_totales_sin_restricciones = n*10*10*10*10*10*10*10*10*10*10\n",
        "print('Sin tener en cuenta las restricciones existen un total de :',combinaciones_totales_sin_restricciones, 'combinaciones totales')"
      ],
      "metadata": {
        "colab": {
          "base_uri": "https://localhost:8080/"
        },
        "id": "pnv7QI1r_uRG",
        "outputId": "76e52985-85d3-4995-c442-1051e2213645"
      },
      "execution_count": null,
      "outputs": [
        {
          "output_type": "stream",
          "name": "stdout",
          "text": [
            "Sin tener en cuenta las restricciones existen un total de : 23758808673600000000000000 combinaciones totales\n"
          ]
        }
      ]
    },
    {
      "cell_type": "markdown",
      "source": [
        "Se puede observar que este número responde también al siguiente cálculo:\n",
        "`20!*10^10 / 2^10`"
      ],
      "metadata": {
        "id": "Ts0J8MA3yfSa"
      }
    },
    {
      "cell_type": "markdown",
      "source": [
        "======================================================================================================================================================================================================================================"
      ],
      "metadata": {
        "id": "9XjCde0CGeb4"
      }
    },
    {
      "cell_type": "markdown",
      "source": [
        "**¿Cuantas posibilidades hay teniendo en cuenta todas las restricciones.**"
      ],
      "metadata": {
        "id": "7njvAdAafEvU"
      }
    },
    {
      "cell_type": "markdown",
      "source": [
        "Al tener en cuenta que los viernes y lunes debe jugarse un partido:"
      ],
      "metadata": {
        "id": "ROxEVBLlcWOn"
      }
    },
    {
      "cell_type": "code",
      "source": [
        "combinaciones_totales_con_restricciones = n*1*8*8*8*8*8*8*8*8*1\n",
        "print('Sin tener en cuenta las restricciones existen un total de :',combinaciones_totales_con_restricciones, 'combinaciones totales')"
      ],
      "metadata": {
        "colab": {
          "base_uri": "https://localhost:8080/"
        },
        "id": "IzMmEdfmcVfz",
        "outputId": "3035ee48-a39e-46fa-decb-b5d51224619f"
      },
      "execution_count": null,
      "outputs": [
        {
          "output_type": "stream",
          "name": "stdout",
          "text": [
            "Sin tener en cuenta las restricciones existen un total de : 39860666501966069760000 combinaciones totales\n"
          ]
        }
      ]
    },
    {
      "cell_type": "markdown",
      "source": [
        "Se puede observar que este número responde también al siguiente cálculo:\n",
        "`20!*8^8 / 2^10`"
      ],
      "metadata": {
        "id": "b77007BDy6tY"
      }
    },
    {
      "cell_type": "markdown",
      "source": [
        "======================================================================================================================================================================================================================================"
      ],
      "metadata": {
        "id": "YQja3J8wGhfS"
      }
    },
    {
      "cell_type": "markdown",
      "metadata": {
        "id": "dzynfVJahHoY"
      },
      "source": [
        " **Modelo para el espacio de soluciones<br>\n",
        "(*) ¿Cual es la estructura de datos que mejor se adapta al problema? Argumentalo.(Es posible que hayas elegido una al principio y veas la necesidad de cambiar, arguentalo)**\n"
      ]
    },
    {
      "cell_type": "markdown",
      "metadata": {
        "id": "xFIJrOwKi2Ti"
      },
      "source": [
        "Respuesta"
      ]
    },
    {
      "cell_type": "markdown",
      "source": [
        "En este caso, la estructura que encuentro mas apta para trabajar con el problema es mediante una estructura de arbol para los partidos sumado a una lista para los horarios. Es decir, en cada nivel del arbol se debe elegir entre uno de los posibles partidos + un horario de la lista: [V20, S12, S16, S18, S20, D12, D16, D18, D20, L20].\n",
        "\n",
        "La estructura del arbol sería de la siguiente manera:\n",
        "El primer partido puede elegirse libremente. En cuanto al horario, al ser el primero, ya se encuentra definido: V20.\n",
        "\n",
        "Para los 8 partidos subsiguientes ya existen limitaciones al reducirse el numero de equipos disponibles.\n",
        "\n",
        "\n",
        "*   Partido 1: 190 posibles combinaciones + [V20]\n",
        "*   Partido 2: 153 ramificaciones de posibles combinaciones + un horario de la lista: [S12, S16, S18, S20, D12, D16, D18, D20]\n",
        "*   Partido 3: 120 ramificaciones de posibles combinaciones + un horario de la lista: [S12, S16, S18, S20, D12, D16, D18, D20]\n",
        "*   Partido 4: 91 ramificaciones de posibles combinaciones + un horario de la lista: [S12, S16, S18, S20, D12, D16, D18, D20]\n",
        "*   Partido 5: 66 ramificaciones de posibles combinaciones + un horario de la lista: [S12, S16, S18, S20, D12, D16, D18, D20]\n",
        "*   Partido 6: 45 ramificaciones de posibles combinaciones + un horario de la lista: [S12, S16, S18, S20, D12, D16, D18, D20]\n",
        "*   Partido 7: 28 ramificaciones de posibles combinaciones + un horario de la lista: [S12, S16, S18, S20, D12, D16, D18, D20]\n",
        "*   Partido 8: 15 ramificaciones de posibles combinaciones + un horario de la lista: [S12, S16, S18, S20, D12, D16, D18, D20]\n",
        "*   Partido 9: 6 ramificaciones de posibles combinaciones + un horario de la lista: [S12, S16, S18, S20, D12, D16, D18, D20]\n",
        "*   Partido 10: 1 partido restante + [L20]\n",
        "\n",
        "Habiendo elegido los partidos y horarios para todo el fin de semana. La información se puede visualizar correctamente en un dataframes en pandas, en donde en las columnas se muestra la información de la audiencia estimada junto con los factores de correción."
      ],
      "metadata": {
        "id": "Fkc3s5vb9Uoe"
      }
    },
    {
      "cell_type": "markdown",
      "source": [
        "======================================================================================================================================================================================================================================"
      ],
      "metadata": {
        "id": "XAU4oboLGjqa"
      }
    },
    {
      "cell_type": "markdown",
      "metadata": {
        "id": "7Z9U2W7bi-XS"
      },
      "source": [
        "**Según el modelo para el espacio de soluciones<br>**\n",
        "**(*)¿Cual es la función objetivo?**\n",
        "\n",
        "**(*)¿Es un problema de maximización o minimización?**"
      ]
    },
    {
      "cell_type": "markdown",
      "metadata": {
        "id": "hBalWLM7j1_d"
      },
      "source": [
        "Respuesta"
      ]
    },
    {
      "cell_type": "markdown",
      "source": [
        "La función objetivo se obtiene de la suma de las audiencias estimadas en cada uno de los partidos. Matematicamente puede representarse mediante la siguiente función:\n",
        "\n",
        "**F_de_costo** = f( [equipo1,equipo2,horario1] , [equipo3,equipo4,horario2] , [equipo5,equipo6,horario3] , [equipo7,equipo8,horario4] , [equipo9,equipo10,horario5] , [equipo11,equipo12,horario6] , [equipo13,equipo14,horario7] , [equipo15,equipo16,horario8] , [equipo17,equipo18,horario9] , [equipo19,equipo20,horario10] )\n",
        "\n",
        "\\\n",
        "Es un problema de maximización, ya que se trata de maximizar la cantidad de audiencia en los partidos."
      ],
      "metadata": {
        "id": "VgXYsZFqZjCM"
      }
    },
    {
      "cell_type": "markdown",
      "source": [
        "======================================================================================================================================================================================================================================"
      ],
      "metadata": {
        "id": "07TiqxzVGlmQ"
      }
    },
    {
      "cell_type": "markdown",
      "metadata": {
        "id": "rlnTYgY1j6I2"
      },
      "source": [
        "**Diseña un algoritmo para resolver el problema por fuerza bruta**"
      ]
    },
    {
      "cell_type": "markdown",
      "metadata": {
        "id": "70rDgxYXkC8r"
      },
      "source": [
        "Respuesta"
      ]
    },
    {
      "cell_type": "code",
      "metadata": {
        "id": "CJb5sQ0qkENy"
      },
      "source": [],
      "execution_count": null,
      "outputs": []
    },
    {
      "cell_type": "markdown",
      "source": [
        "======================================================================================================================================================================================================================================"
      ],
      "metadata": {
        "id": "D5nMXb9DGm95"
      }
    },
    {
      "cell_type": "markdown",
      "metadata": {
        "id": "tgrnsC2nkFa8"
      },
      "source": [
        "**Calcula la complejidad del algoritmo por fuerza bruta**"
      ]
    },
    {
      "cell_type": "markdown",
      "metadata": {
        "id": "9eUd3xwckP68"
      },
      "source": [
        "Respuesta"
      ]
    },
    {
      "cell_type": "code",
      "metadata": {
        "id": "rvZWwL-ckRST"
      },
      "source": [],
      "execution_count": null,
      "outputs": []
    },
    {
      "cell_type": "markdown",
      "source": [
        "======================================================================================================================================================================================================================================"
      ],
      "metadata": {
        "id": "gGI8WVvkGobQ"
      }
    },
    {
      "cell_type": "markdown",
      "metadata": {
        "id": "txbrmLmskReM"
      },
      "source": [
        "**(*)Diseña un algoritmo que mejore la complejidad del algortimo por fuerza bruta. Argumenta porque crees que mejora el algoritmo por fuerza bruta**"
      ]
    },
    {
      "cell_type": "markdown",
      "metadata": {
        "id": "hLrVwt5QkZPD"
      },
      "source": [
        "Respuesta"
      ]
    },
    {
      "cell_type": "markdown",
      "source": [
        "La mejora de un algoritmo por fuerza bruta, puede darse por el hecho de aplicar criterios simplificativos con el fin de reducir el espacio de busqueda de las soluciones.\n",
        "\n",
        "Para este caso los criterios adoptados surgen de la propia observación de las estimaciones de audiencia totales, es decir, de cuando las mismas son máximas y bajo que situaciones. Por ejemplo, se sabe que el partido de equipos de división A: (A1, A2) es el partido que mayor audiencia base genera (2 millones) y que si se programa en el horario de sabado a las 20 o domingo a las 20, este valor resulta multiplicado por un factor de 1. Por lo tanto, resulta sensato, que los partidos que generen mayor audiencia sean colocados en los horarios del fin de semana que también tengan mejor previsión de audiencia.\n",
        "\n",
        "Sumado a esto, inicialmente se considerará el caso de que no puedan darse coincidencias entre los partidos.\n",
        "\n",
        "El algoritmo que se desarrolla a continuación se basa en una metodología voraz\n",
        "en donde para cada día, se elegirá el partido que maximice la audiencia.\n",
        "El orden de los días ya se encuentra preestablecido en función de los coeficientes de reducción de audiencia:\n",
        "\n",
        "```\n",
        "['S20','D20','D18','S18','D16','S16','S12','D12','V20','L20']\n",
        "```\n",
        "\n",
        "Posteriormente, se aplicará el algoritmo de recocido simulado para explorar otras zonas de búsqueda para tratar de encontrar otras potenciales zonas con mejores soluciones."
      ],
      "metadata": {
        "id": "WzmhMzjnGdAA"
      }
    },
    {
      "cell_type": "code",
      "source": [
        "# IMPORT DE LIBRERIAS\n",
        "import itertools\n",
        "import math\n",
        "import pandas as pd\n",
        "import random\n",
        "import copy"
      ],
      "metadata": {
        "id": "eMLOwl0PGzBj"
      },
      "execution_count": 2,
      "outputs": []
    },
    {
      "cell_type": "code",
      "source": [
        "# DEFINICION DE LAS FUNCIONES A UTILIZAR:\n",
        "#---------------------------------------------------------\n",
        "def remover_equipos(lista,eq1,eq2):\n",
        "\n",
        "    #Se eliminan los equipos ya asignados.\n",
        "    i = 0\n",
        "    while i < len(lista):\n",
        "        if (eq1 in lista[i]) or (eq2 in lista[i]):\n",
        "            lista.remove(lista[i])\n",
        "        else:\n",
        "            i += 1\n",
        "    return lista\n",
        "#---------------------------------------------------------\n",
        "def calcular_audiencia(equipo_1,equipo_2,coeficientes):\n",
        "\n",
        "    #Se calcula la audiencia.\n",
        "    if ('A' in equipo_1 and 'A' in equipo_2): audiencia_estimada = 2*coeficientes\n",
        "    if ('B' in equipo_1 and 'B' in equipo_2): audiencia_estimada = 0.9*coeficientes\n",
        "    if ('C' in equipo_1 and 'C' in equipo_2): audiencia_estimada = 0.47*coeficientes\n",
        "    if ('A' in equipo_1 and 'B' in equipo_2) or ('B' in equipo_1 and 'A' in equipo_2): audiencia_estimada = 1.3*coeficientes\n",
        "    if ('A' in equipo_1 and 'C' in equipo_2) or ('C' in equipo_1 and 'A' in equipo_2): audiencia_estimada = 1*coeficientes\n",
        "    if ('B' in equipo_1 and 'C' in equipo_2) or ('C' in equipo_1 and 'B' in equipo_2): audiencia_estimada = 0.75*coeficientes\n",
        "\n",
        "    return audiencia_estimada\n",
        "#---------------------------------------------------------\n",
        "def coincidencias(df_voraz):\n",
        "\n",
        "    #Se genera lista de coeficientes acorde a las coincidencias entre partidos.\n",
        "    coef_corr = []\n",
        "\n",
        "    df_coincidencias = pd.DataFrame(data=df_voraz['Horario'].value_counts())\n",
        "    for i in range(df_coincidencias.shape[0]):\n",
        "      if df_coincidencias['Horario'][i] == 1: coef_corr.append(1)\n",
        "      if df_coincidencias['Horario'][i] == 2: coef_corr.append(0.75)\n",
        "      if df_coincidencias['Horario'][i] == 3: coef_corr.append(0.55)\n",
        "      if df_coincidencias['Horario'][i] == 4: coef_corr.append(0.4)\n",
        "      if df_coincidencias['Horario'][i] == 5: coef_corr.append(0.3)\n",
        "      if df_coincidencias['Horario'][i] == 6: coef_corr.append(0.25)\n",
        "      if df_coincidencias['Horario'][i] == 7: coef_corr.append(0.22)\n",
        "      if df_coincidencias['Horario'][i] == 8: coef_corr.append(0.2)\n",
        "      if df_coincidencias['Horario'][i] == 9: coef_corr.append(0.2)\n",
        "\n",
        "    df_coincidencias['Coef_de_corr'] = coef_corr\n",
        "    df_coincidencias = df_coincidencias.reset_index()\n",
        "    df_coincidencias['Horario'] = df_coincidencias['index']\n",
        "\n",
        "    return df_coincidencias\n",
        "#---------------------------------------------------------\n",
        "def genera_vecina_aleatorio(horario,coeficientes):\n",
        "\n",
        "    #Se eligen dos nodos aleatoriamente.\n",
        "    i,j = sorted(random.sample( range(1,len(horario)) , 2))\n",
        "\n",
        "    #Devuelve una nueva solución pero intercambiando los dos nodos elegidos al azar.\n",
        "    return horario[:i] + [horario[j]] + horario[i+1:j] + [horario[i]] + horario[j+1:] , coeficientes[:i] + [coeficientes[j]] + coeficientes[i+1:j] + [coeficientes[i]] + coeficientes[j+1:]\n",
        "#---------------------------------------------------------\n",
        "def genera_equipos():\n",
        "\n",
        "    #Lista con la totalidad de los equipos.\n",
        "    equipos = ['A1','A2','A3','B1','B2','B3','B4','B5','B6','B7','B8','B9','B10','B11', 'C1','C2','C3','C4','C5','C6']\n",
        "\n",
        "    #Se generan todas las posibles combinaciones, se cuentan y se agregan a la lista: lista_partidos.\n",
        "    partidos = list(itertools.combinations(equipos, 2))\n",
        "    contador = 0\n",
        "    lista_partidos = []\n",
        "\n",
        "    for partido in partidos:\n",
        "        lista_partidos.append(partido)\n",
        "        contador = contador + 1\n",
        "\n",
        "    return lista_partidos\n",
        "#---------------------------------------------------------\n",
        "def generar_partidos_voraz(horarios,coeficiente,lista_partidos):\n",
        "\n",
        "    #Se generan listas y parámetros iniciales que se utilizaran en el código.\n",
        "    audiencia_total = 0\n",
        "    partido_optimo = []\n",
        "    partido = []\n",
        "    audiencia_total = []\n",
        "    audiencia_estimada = []\n",
        "\n",
        "    #Se recorre un doble bucle, el primero de ellos siendo el de la lista de horarios: ['S20','D20','D18','S18','D16','S16','S12','D12','V20','L20'].\n",
        "    for i in range(len(horarios)):\n",
        "\n",
        "      audiencia_max = -1\n",
        "\n",
        "      #El segundo bucle corresponde a las posibilidades de distintas combinaciones de los equipos para formar los partidos.\n",
        "      for j in range(len(lista_partidos)):\n",
        "\n",
        "        #Se elige el primer elemento de la lista 'lista_partidos' y se calcula la audiencia que generaría.\n",
        "        equipo_1 = lista_partidos[j][0]\n",
        "        equipo_2 = lista_partidos[j][1]\n",
        "        audiencia = calcular_audiencia(equipo_1,equipo_2,coeficiente[i])\n",
        "\n",
        "        #Si la audiencia generada es mayor que la audiencia inicial, o la máxima encontrada hasta el momento se guardan los equipos del partido junto con la nueva audiencia máxima.\n",
        "        if audiencia > audiencia_max:\n",
        "          audiencia_max = audiencia\n",
        "          partido = [equipo_1,equipo_2]\n",
        "\n",
        "      #Una vez terminado el segundo bucle (de todos las posibles combinaciones de equipos) se guarda el partido óptimo y su audiencia generada.\n",
        "      partido_optimo.append(partido)\n",
        "      audiencia_estimada.append(audiencia_max)\n",
        "\n",
        "      #Los equipos elegidos ya no estarán disponibles para próximas elecciones, por lo tanto se los debe eliminar de la lista_partidos.\n",
        "      lista_partidos = remover_equipos(lista_partidos,partido[0],partido[1])\n",
        "\n",
        "      #Se genera una lista en donde cada valor es el máximo de audiencia del horario del primer bucle.\n",
        "      audiencia_total.append(audiencia_max)\n",
        "\n",
        "    #Se genera un dataframe en donde por fila se colocan los partidos que generan las mayores audiencias y se agregan las columnas: horario, coeficientes y audiencia estimada.\n",
        "    df_voraz = pd.DataFrame(partido_optimo, columns=['Equipo1', 'Equipo2'])\n",
        "    df_voraz['Horario'] = horarios\n",
        "    df_voraz['Coeficientes'] = coeficiente\n",
        "    df_voraz['Audiencia Estimada'] = audiencia_estimada\n",
        "\n",
        "    #El df_coincidencias se genera para contar las posibles coincidencias de horarios entre los partidos (este punto se utilizará en la aplicación del algoritmo con entradas aleatorias).\n",
        "    #se realiza un merge entre los 2 dataframes para juntar toda la información en un nuevo dataframe llamado df_combinado.\n",
        "    df_coincidencias = coincidencias(df_voraz)\n",
        "    df_combinado = pd.merge(df_voraz,df_coincidencias, on='Horario').drop('index', axis=1)\n",
        "    df_combinado['Correción coincidencia'] = df_combinado['Audiencia Estimada']*df_combinado['Coef_de_corr']\n",
        "\n",
        "    #El output generado es la suma de la columna 'Corrección coincidencia' que ya tiene la audiencia estimada por partido habiendo aplicado todos los coeficientes necesarios, y el df_combinado\n",
        "    #que se imprimirá en pantalla.\n",
        "    output = df_combinado['Correción coincidencia'].sum()\n",
        "\n",
        "    return output,df_combinado\n",
        "#---------------------------------------------------------\n",
        "#Funcion de probabilidad para aceptar peores soluciones\n",
        "def probabilidad(T,d):\n",
        "    if random.random() <  math.exp( -1*d / T)  :\n",
        "      return True\n",
        "    else:\n",
        "      return False\n",
        "#---------------------------------------------------------\n",
        "#Funcion de descenso de temperatura\n",
        "def bajar_temperatura(T):\n",
        "    return T*0.99\n",
        "#---------------------------------------------------------\n",
        "def recocido_simulado(TEMPERATURA,lista_partidos,horarios_referencia,coeficientes_referencia):\n",
        "\n",
        "  lista_partidos_copia = copy.copy(lista_partidos)\n",
        "\n",
        "  audiencia_referencia,df = generar_partidos_voraz(horarios_referencia,coeficientes_referencia,lista_partidos_copia)\n",
        "\n",
        "  print('La solución de referencia es: ',horarios_referencia)\n",
        "  print('La audiencia de referencia es: ', audiencia_referencia)\n",
        "  print('------------------------------------------')\n",
        "\n",
        "  mejor_horario = []\n",
        "  mejor_coeficiente = []\n",
        "  mejor_audiencia = 0\n",
        "\n",
        "  N=0\n",
        "  while TEMPERATURA > .0001:\n",
        "    N+=1\n",
        "    #Genera copia de la lista: lista_partidos\n",
        "    lista_partidos_copia2 = copy.copy(lista_partidos)\n",
        "\n",
        "    #Genera una solución vecina\n",
        "    horarios_vecino,coeficiente_vecino = genera_vecina_aleatorio(horarios_referencia,coeficientes_referencia)\n",
        "\n",
        "    #Calcula el valor de la audiencia vecina\n",
        "    audiencia_vecina,df = generar_partidos_voraz(horarios_vecino,coeficiente_vecino,lista_partidos_copia2)\n",
        "\n",
        "    #Si es la mejor solución de todas se guarda(siempre!!!)\n",
        "    if audiencia_vecina > mejor_audiencia:\n",
        "        mejor_horario,mejor_coeficiente = horarios_vecino,coeficiente_vecino\n",
        "        mejor_audiencia = audiencia_vecina\n",
        "        print('La audiencia vecina número ',N,'es:',mejor_audiencia)\n",
        "\n",
        "    #Si es peor se cambia según una probabilidad que depende de T y delta(audiencia_referencia - audiencia_vecina)\n",
        "    if audiencia_vecina < audiencia_referencia or probabilidad(TEMPERATURA, abs(audiencia_referencia - audiencia_vecina) ) :\n",
        "        horarios_referencia,coeficientes_referencia = horarios_vecino,coeficiente_vecino\n",
        "        audiencia_referencia = audiencia_vecina\n",
        "\n",
        "    #Bajamos la temperatura\n",
        "    TEMPERATURA = bajar_temperatura(TEMPERATURA)\n",
        "\n",
        "  print(\"La mejor solución encontrada es \" , end=\"\")\n",
        "  print(mejor_horario)\n",
        "  print(\"con una distancia total de \" , end=\"\")\n",
        "  print(mejor_audiencia)\n",
        "\n",
        "  return mejor_horario,df"
      ],
      "metadata": {
        "id": "bbechqPrWSdd"
      },
      "execution_count": 1,
      "outputs": []
    },
    {
      "cell_type": "markdown",
      "source": [
        "Habiendo definido todas las funciones a utilizar, a continuación se realizará el llamado unicamente a las del algoritmo voraz.\n",
        "Los horarios de referencia a ingresar se encuentran ordenados en orden descendente en base a los coeficientes de reducción de audiencia."
      ],
      "metadata": {
        "id": "-NGaA-AlK146"
      }
    },
    {
      "cell_type": "code",
      "source": [
        "horarios_referencia = ['S20','D20','D18','S18','D16','S16','S12','D12','V20','L20']\n",
        "coeficientes_referencia = [1,1,0.85,0.8,0.75,0.7,0.55,0.45,0.4,0.4]\n",
        "lista_partidos = genera_equipos()\n",
        "\n",
        "#Se aplica el algoritmo voraz con los datos generados anteriormente.\n",
        "aud_max,df = generar_partidos_voraz(horarios_referencia,coeficientes_referencia,lista_partidos)\n",
        "print('La aud max es:', aud_max)\n",
        "df"
      ],
      "metadata": {
        "colab": {
          "base_uri": "https://localhost:8080/",
          "height": 380
        },
        "id": "BjFqRZBGom1z",
        "outputId": "8b15f2cd-a106-4952-9e89-cb2f87008a5d"
      },
      "execution_count": 3,
      "outputs": [
        {
          "output_type": "stream",
          "name": "stdout",
          "text": [
            "La aud max es: 7.172499999999999\n"
          ]
        },
        {
          "output_type": "execute_result",
          "data": {
            "text/plain": [
              "  Equipo1 Equipo2 Horario  Coeficientes  Audiencia Estimada  Coef_de_corr  \\\n",
              "0      A1      A2     S20          1.00              2.0000             1   \n",
              "1      A3      B1     D20          1.00              1.3000             1   \n",
              "2      B2      B3     D18          0.85              0.7650             1   \n",
              "3      B4      B5     S18          0.80              0.7200             1   \n",
              "4      B6      B7     D16          0.75              0.6750             1   \n",
              "5      B8      B9     S16          0.70              0.6300             1   \n",
              "6     B10     B11     S12          0.55              0.4950             1   \n",
              "7      C1      C2     D12          0.45              0.2115             1   \n",
              "8      C3      C4     V20          0.40              0.1880             1   \n",
              "9      C5      C6     L20          0.40              0.1880             1   \n",
              "\n",
              "   Correción coincidencia  \n",
              "0                  2.0000  \n",
              "1                  1.3000  \n",
              "2                  0.7650  \n",
              "3                  0.7200  \n",
              "4                  0.6750  \n",
              "5                  0.6300  \n",
              "6                  0.4950  \n",
              "7                  0.2115  \n",
              "8                  0.1880  \n",
              "9                  0.1880  "
            ],
            "text/html": [
              "\n",
              "\n",
              "  <div id=\"df-d205d0ad-3e5e-45ea-a56c-56083add81f7\">\n",
              "    <div class=\"colab-df-container\">\n",
              "      <div>\n",
              "<style scoped>\n",
              "    .dataframe tbody tr th:only-of-type {\n",
              "        vertical-align: middle;\n",
              "    }\n",
              "\n",
              "    .dataframe tbody tr th {\n",
              "        vertical-align: top;\n",
              "    }\n",
              "\n",
              "    .dataframe thead th {\n",
              "        text-align: right;\n",
              "    }\n",
              "</style>\n",
              "<table border=\"1\" class=\"dataframe\">\n",
              "  <thead>\n",
              "    <tr style=\"text-align: right;\">\n",
              "      <th></th>\n",
              "      <th>Equipo1</th>\n",
              "      <th>Equipo2</th>\n",
              "      <th>Horario</th>\n",
              "      <th>Coeficientes</th>\n",
              "      <th>Audiencia Estimada</th>\n",
              "      <th>Coef_de_corr</th>\n",
              "      <th>Correción coincidencia</th>\n",
              "    </tr>\n",
              "  </thead>\n",
              "  <tbody>\n",
              "    <tr>\n",
              "      <th>0</th>\n",
              "      <td>A1</td>\n",
              "      <td>A2</td>\n",
              "      <td>S20</td>\n",
              "      <td>1.00</td>\n",
              "      <td>2.0000</td>\n",
              "      <td>1</td>\n",
              "      <td>2.0000</td>\n",
              "    </tr>\n",
              "    <tr>\n",
              "      <th>1</th>\n",
              "      <td>A3</td>\n",
              "      <td>B1</td>\n",
              "      <td>D20</td>\n",
              "      <td>1.00</td>\n",
              "      <td>1.3000</td>\n",
              "      <td>1</td>\n",
              "      <td>1.3000</td>\n",
              "    </tr>\n",
              "    <tr>\n",
              "      <th>2</th>\n",
              "      <td>B2</td>\n",
              "      <td>B3</td>\n",
              "      <td>D18</td>\n",
              "      <td>0.85</td>\n",
              "      <td>0.7650</td>\n",
              "      <td>1</td>\n",
              "      <td>0.7650</td>\n",
              "    </tr>\n",
              "    <tr>\n",
              "      <th>3</th>\n",
              "      <td>B4</td>\n",
              "      <td>B5</td>\n",
              "      <td>S18</td>\n",
              "      <td>0.80</td>\n",
              "      <td>0.7200</td>\n",
              "      <td>1</td>\n",
              "      <td>0.7200</td>\n",
              "    </tr>\n",
              "    <tr>\n",
              "      <th>4</th>\n",
              "      <td>B6</td>\n",
              "      <td>B7</td>\n",
              "      <td>D16</td>\n",
              "      <td>0.75</td>\n",
              "      <td>0.6750</td>\n",
              "      <td>1</td>\n",
              "      <td>0.6750</td>\n",
              "    </tr>\n",
              "    <tr>\n",
              "      <th>5</th>\n",
              "      <td>B8</td>\n",
              "      <td>B9</td>\n",
              "      <td>S16</td>\n",
              "      <td>0.70</td>\n",
              "      <td>0.6300</td>\n",
              "      <td>1</td>\n",
              "      <td>0.6300</td>\n",
              "    </tr>\n",
              "    <tr>\n",
              "      <th>6</th>\n",
              "      <td>B10</td>\n",
              "      <td>B11</td>\n",
              "      <td>S12</td>\n",
              "      <td>0.55</td>\n",
              "      <td>0.4950</td>\n",
              "      <td>1</td>\n",
              "      <td>0.4950</td>\n",
              "    </tr>\n",
              "    <tr>\n",
              "      <th>7</th>\n",
              "      <td>C1</td>\n",
              "      <td>C2</td>\n",
              "      <td>D12</td>\n",
              "      <td>0.45</td>\n",
              "      <td>0.2115</td>\n",
              "      <td>1</td>\n",
              "      <td>0.2115</td>\n",
              "    </tr>\n",
              "    <tr>\n",
              "      <th>8</th>\n",
              "      <td>C3</td>\n",
              "      <td>C4</td>\n",
              "      <td>V20</td>\n",
              "      <td>0.40</td>\n",
              "      <td>0.1880</td>\n",
              "      <td>1</td>\n",
              "      <td>0.1880</td>\n",
              "    </tr>\n",
              "    <tr>\n",
              "      <th>9</th>\n",
              "      <td>C5</td>\n",
              "      <td>C6</td>\n",
              "      <td>L20</td>\n",
              "      <td>0.40</td>\n",
              "      <td>0.1880</td>\n",
              "      <td>1</td>\n",
              "      <td>0.1880</td>\n",
              "    </tr>\n",
              "  </tbody>\n",
              "</table>\n",
              "</div>\n",
              "      <button class=\"colab-df-convert\" onclick=\"convertToInteractive('df-d205d0ad-3e5e-45ea-a56c-56083add81f7')\"\n",
              "              title=\"Convert this dataframe to an interactive table.\"\n",
              "              style=\"display:none;\">\n",
              "\n",
              "  <svg xmlns=\"http://www.w3.org/2000/svg\" height=\"24px\"viewBox=\"0 0 24 24\"\n",
              "       width=\"24px\">\n",
              "    <path d=\"M0 0h24v24H0V0z\" fill=\"none\"/>\n",
              "    <path d=\"M18.56 5.44l.94 2.06.94-2.06 2.06-.94-2.06-.94-.94-2.06-.94 2.06-2.06.94zm-11 1L8.5 8.5l.94-2.06 2.06-.94-2.06-.94L8.5 2.5l-.94 2.06-2.06.94zm10 10l.94 2.06.94-2.06 2.06-.94-2.06-.94-.94-2.06-.94 2.06-2.06.94z\"/><path d=\"M17.41 7.96l-1.37-1.37c-.4-.4-.92-.59-1.43-.59-.52 0-1.04.2-1.43.59L10.3 9.45l-7.72 7.72c-.78.78-.78 2.05 0 2.83L4 21.41c.39.39.9.59 1.41.59.51 0 1.02-.2 1.41-.59l7.78-7.78 2.81-2.81c.8-.78.8-2.07 0-2.86zM5.41 20L4 18.59l7.72-7.72 1.47 1.35L5.41 20z\"/>\n",
              "  </svg>\n",
              "      </button>\n",
              "\n",
              "\n",
              "\n",
              "    <div id=\"df-50d6ab38-f652-4ab6-8b68-de54543ab4b0\">\n",
              "      <button class=\"colab-df-quickchart\" onclick=\"quickchart('df-50d6ab38-f652-4ab6-8b68-de54543ab4b0')\"\n",
              "              title=\"Suggest charts.\"\n",
              "              style=\"display:none;\">\n",
              "\n",
              "<svg xmlns=\"http://www.w3.org/2000/svg\" height=\"24px\"viewBox=\"0 0 24 24\"\n",
              "     width=\"24px\">\n",
              "    <g>\n",
              "        <path d=\"M19 3H5c-1.1 0-2 .9-2 2v14c0 1.1.9 2 2 2h14c1.1 0 2-.9 2-2V5c0-1.1-.9-2-2-2zM9 17H7v-7h2v7zm4 0h-2V7h2v10zm4 0h-2v-4h2v4z\"/>\n",
              "    </g>\n",
              "</svg>\n",
              "      </button>\n",
              "    </div>\n",
              "\n",
              "<style>\n",
              "  .colab-df-quickchart {\n",
              "    background-color: #E8F0FE;\n",
              "    border: none;\n",
              "    border-radius: 50%;\n",
              "    cursor: pointer;\n",
              "    display: none;\n",
              "    fill: #1967D2;\n",
              "    height: 32px;\n",
              "    padding: 0 0 0 0;\n",
              "    width: 32px;\n",
              "  }\n",
              "\n",
              "  .colab-df-quickchart:hover {\n",
              "    background-color: #E2EBFA;\n",
              "    box-shadow: 0px 1px 2px rgba(60, 64, 67, 0.3), 0px 1px 3px 1px rgba(60, 64, 67, 0.15);\n",
              "    fill: #174EA6;\n",
              "  }\n",
              "\n",
              "  [theme=dark] .colab-df-quickchart {\n",
              "    background-color: #3B4455;\n",
              "    fill: #D2E3FC;\n",
              "  }\n",
              "\n",
              "  [theme=dark] .colab-df-quickchart:hover {\n",
              "    background-color: #434B5C;\n",
              "    box-shadow: 0px 1px 3px 1px rgba(0, 0, 0, 0.15);\n",
              "    filter: drop-shadow(0px 1px 2px rgba(0, 0, 0, 0.3));\n",
              "    fill: #FFFFFF;\n",
              "  }\n",
              "</style>\n",
              "\n",
              "    <script>\n",
              "      async function quickchart(key) {\n",
              "        const containerElement = document.querySelector('#' + key);\n",
              "        const charts = await google.colab.kernel.invokeFunction(\n",
              "            'suggestCharts', [key], {});\n",
              "      }\n",
              "    </script>\n",
              "\n",
              "      <script>\n",
              "\n",
              "function displayQuickchartButton(domScope) {\n",
              "  let quickchartButtonEl =\n",
              "    domScope.querySelector('#df-50d6ab38-f652-4ab6-8b68-de54543ab4b0 button.colab-df-quickchart');\n",
              "  quickchartButtonEl.style.display =\n",
              "    google.colab.kernel.accessAllowed ? 'block' : 'none';\n",
              "}\n",
              "\n",
              "        displayQuickchartButton(document);\n",
              "      </script>\n",
              "      <style>\n",
              "    .colab-df-container {\n",
              "      display:flex;\n",
              "      flex-wrap:wrap;\n",
              "      gap: 12px;\n",
              "    }\n",
              "\n",
              "    .colab-df-convert {\n",
              "      background-color: #E8F0FE;\n",
              "      border: none;\n",
              "      border-radius: 50%;\n",
              "      cursor: pointer;\n",
              "      display: none;\n",
              "      fill: #1967D2;\n",
              "      height: 32px;\n",
              "      padding: 0 0 0 0;\n",
              "      width: 32px;\n",
              "    }\n",
              "\n",
              "    .colab-df-convert:hover {\n",
              "      background-color: #E2EBFA;\n",
              "      box-shadow: 0px 1px 2px rgba(60, 64, 67, 0.3), 0px 1px 3px 1px rgba(60, 64, 67, 0.15);\n",
              "      fill: #174EA6;\n",
              "    }\n",
              "\n",
              "    [theme=dark] .colab-df-convert {\n",
              "      background-color: #3B4455;\n",
              "      fill: #D2E3FC;\n",
              "    }\n",
              "\n",
              "    [theme=dark] .colab-df-convert:hover {\n",
              "      background-color: #434B5C;\n",
              "      box-shadow: 0px 1px 3px 1px rgba(0, 0, 0, 0.15);\n",
              "      filter: drop-shadow(0px 1px 2px rgba(0, 0, 0, 0.3));\n",
              "      fill: #FFFFFF;\n",
              "    }\n",
              "  </style>\n",
              "\n",
              "      <script>\n",
              "        const buttonEl =\n",
              "          document.querySelector('#df-d205d0ad-3e5e-45ea-a56c-56083add81f7 button.colab-df-convert');\n",
              "        buttonEl.style.display =\n",
              "          google.colab.kernel.accessAllowed ? 'block' : 'none';\n",
              "\n",
              "        async function convertToInteractive(key) {\n",
              "          const element = document.querySelector('#df-d205d0ad-3e5e-45ea-a56c-56083add81f7');\n",
              "          const dataTable =\n",
              "            await google.colab.kernel.invokeFunction('convertToInteractive',\n",
              "                                                     [key], {});\n",
              "          if (!dataTable) return;\n",
              "\n",
              "          const docLinkHtml = 'Like what you see? Visit the ' +\n",
              "            '<a target=\"_blank\" href=https://colab.research.google.com/notebooks/data_table.ipynb>data table notebook</a>'\n",
              "            + ' to learn more about interactive tables.';\n",
              "          element.innerHTML = '';\n",
              "          dataTable['output_type'] = 'display_data';\n",
              "          await google.colab.output.renderOutput(dataTable, element);\n",
              "          const docLink = document.createElement('div');\n",
              "          docLink.innerHTML = docLinkHtml;\n",
              "          element.appendChild(docLink);\n",
              "        }\n",
              "      </script>\n",
              "    </div>\n",
              "  </div>\n"
            ]
          },
          "metadata": {},
          "execution_count": 3
        }
      ]
    },
    {
      "cell_type": "markdown",
      "source": [
        "Posteriormente se realizará el llamado a la función de recocido simulado.\n",
        "\n",
        "Los horarios de referencia a ingresar son los mismos y se encuentran ordenados en orden descendente en base a los coeficientes de reducción de audiencia. Dentro de la función de recocido simulado, se buscarán alternativas mediante la generación de horarios vecinos."
      ],
      "metadata": {
        "id": "ZqxFkoozLRHR"
      }
    },
    {
      "cell_type": "code",
      "source": [
        "horarios_referencia = ['S20','D20','D18','S18','D16','S16','S12','D12','V20','L20']\n",
        "coeficientes_referencia = [1,1,0.85,0.8,0.75,0.7,0.55,0.45,0.4,0.4]\n",
        "lista_partidos = genera_equipos()\n",
        "Temperatura_ini = 10000000\n",
        "\n",
        "#Se aplica la función de recocido_simulado con los datos generados anteriormente.\n",
        "solucion,df  = recocido_simulado(Temperatura_ini,lista_partidos,horarios_referencia,coeficientes_referencia)\n",
        "df"
      ],
      "metadata": {
        "id": "sEzYE_MArjs2",
        "colab": {
          "base_uri": "https://localhost:8080/",
          "height": 588
        },
        "outputId": "361dfca3-c603-462e-b232-42ab65bf11aa"
      },
      "execution_count": 5,
      "outputs": [
        {
          "output_type": "stream",
          "name": "stdout",
          "text": [
            "La solución de referencia es:  ['S20', 'D20', 'D18', 'S18', 'D16', 'S16', 'S12', 'D12', 'V20', 'L20']\n",
            "La audiencia de referencia es:  7.172499999999999\n",
            "------------------------------------------\n",
            "La audiencia vecina número  1 es: 7.0435\n",
            "La audiencia vecina número  5 es: 7.0649999999999995\n",
            "La audiencia vecina número  46 es: 7.092499999999999\n",
            "La audiencia vecina número  178 es: 7.0925\n",
            "La audiencia vecina número  179 es: 7.1125\n",
            "La audiencia vecina número  1407 es: 7.129499999999999\n",
            "La audiencia vecina número  1411 es: 7.1295\n",
            "La audiencia vecina número  1489 es: 7.1725\n",
            "La mejor solución encontrada es ['S20', 'D20', 'D18', 'D16', 'S18', 'S16', 'S12', 'L20', 'V20', 'D12']\n",
            "con una distancia total de 7.1725\n"
          ]
        },
        {
          "output_type": "execute_result",
          "data": {
            "text/plain": [
              "  Equipo1 Equipo2 Horario  Coeficientes  Audiencia Estimada  Coef_de_corr  \\\n",
              "0      A1      A2     S20          1.00              2.0000             1   \n",
              "1      A3      B1     S12          0.55              0.7150             1   \n",
              "2      B2      B3     S16          0.70              0.6300             1   \n",
              "3      B4      B5     D16          0.75              0.6750             1   \n",
              "4      B6      B7     V20          0.40              0.3600             1   \n",
              "5      B8      B9     D12          0.45              0.4050             1   \n",
              "6     B10     B11     L20          0.40              0.3600             1   \n",
              "7      C1      C2     D20          1.00              0.4700             1   \n",
              "8      C3      C4     D18          0.85              0.3995             1   \n",
              "9      C5      C6     S18          0.80              0.3760             1   \n",
              "\n",
              "   Correción coincidencia  \n",
              "0                  2.0000  \n",
              "1                  0.7150  \n",
              "2                  0.6300  \n",
              "3                  0.6750  \n",
              "4                  0.3600  \n",
              "5                  0.4050  \n",
              "6                  0.3600  \n",
              "7                  0.4700  \n",
              "8                  0.3995  \n",
              "9                  0.3760  "
            ],
            "text/html": [
              "\n",
              "\n",
              "  <div id=\"df-6e5d8cb9-9e98-434f-86a4-c8bd86c8e22f\">\n",
              "    <div class=\"colab-df-container\">\n",
              "      <div>\n",
              "<style scoped>\n",
              "    .dataframe tbody tr th:only-of-type {\n",
              "        vertical-align: middle;\n",
              "    }\n",
              "\n",
              "    .dataframe tbody tr th {\n",
              "        vertical-align: top;\n",
              "    }\n",
              "\n",
              "    .dataframe thead th {\n",
              "        text-align: right;\n",
              "    }\n",
              "</style>\n",
              "<table border=\"1\" class=\"dataframe\">\n",
              "  <thead>\n",
              "    <tr style=\"text-align: right;\">\n",
              "      <th></th>\n",
              "      <th>Equipo1</th>\n",
              "      <th>Equipo2</th>\n",
              "      <th>Horario</th>\n",
              "      <th>Coeficientes</th>\n",
              "      <th>Audiencia Estimada</th>\n",
              "      <th>Coef_de_corr</th>\n",
              "      <th>Correción coincidencia</th>\n",
              "    </tr>\n",
              "  </thead>\n",
              "  <tbody>\n",
              "    <tr>\n",
              "      <th>0</th>\n",
              "      <td>A1</td>\n",
              "      <td>A2</td>\n",
              "      <td>S20</td>\n",
              "      <td>1.00</td>\n",
              "      <td>2.0000</td>\n",
              "      <td>1</td>\n",
              "      <td>2.0000</td>\n",
              "    </tr>\n",
              "    <tr>\n",
              "      <th>1</th>\n",
              "      <td>A3</td>\n",
              "      <td>B1</td>\n",
              "      <td>S12</td>\n",
              "      <td>0.55</td>\n",
              "      <td>0.7150</td>\n",
              "      <td>1</td>\n",
              "      <td>0.7150</td>\n",
              "    </tr>\n",
              "    <tr>\n",
              "      <th>2</th>\n",
              "      <td>B2</td>\n",
              "      <td>B3</td>\n",
              "      <td>S16</td>\n",
              "      <td>0.70</td>\n",
              "      <td>0.6300</td>\n",
              "      <td>1</td>\n",
              "      <td>0.6300</td>\n",
              "    </tr>\n",
              "    <tr>\n",
              "      <th>3</th>\n",
              "      <td>B4</td>\n",
              "      <td>B5</td>\n",
              "      <td>D16</td>\n",
              "      <td>0.75</td>\n",
              "      <td>0.6750</td>\n",
              "      <td>1</td>\n",
              "      <td>0.6750</td>\n",
              "    </tr>\n",
              "    <tr>\n",
              "      <th>4</th>\n",
              "      <td>B6</td>\n",
              "      <td>B7</td>\n",
              "      <td>V20</td>\n",
              "      <td>0.40</td>\n",
              "      <td>0.3600</td>\n",
              "      <td>1</td>\n",
              "      <td>0.3600</td>\n",
              "    </tr>\n",
              "    <tr>\n",
              "      <th>5</th>\n",
              "      <td>B8</td>\n",
              "      <td>B9</td>\n",
              "      <td>D12</td>\n",
              "      <td>0.45</td>\n",
              "      <td>0.4050</td>\n",
              "      <td>1</td>\n",
              "      <td>0.4050</td>\n",
              "    </tr>\n",
              "    <tr>\n",
              "      <th>6</th>\n",
              "      <td>B10</td>\n",
              "      <td>B11</td>\n",
              "      <td>L20</td>\n",
              "      <td>0.40</td>\n",
              "      <td>0.3600</td>\n",
              "      <td>1</td>\n",
              "      <td>0.3600</td>\n",
              "    </tr>\n",
              "    <tr>\n",
              "      <th>7</th>\n",
              "      <td>C1</td>\n",
              "      <td>C2</td>\n",
              "      <td>D20</td>\n",
              "      <td>1.00</td>\n",
              "      <td>0.4700</td>\n",
              "      <td>1</td>\n",
              "      <td>0.4700</td>\n",
              "    </tr>\n",
              "    <tr>\n",
              "      <th>8</th>\n",
              "      <td>C3</td>\n",
              "      <td>C4</td>\n",
              "      <td>D18</td>\n",
              "      <td>0.85</td>\n",
              "      <td>0.3995</td>\n",
              "      <td>1</td>\n",
              "      <td>0.3995</td>\n",
              "    </tr>\n",
              "    <tr>\n",
              "      <th>9</th>\n",
              "      <td>C5</td>\n",
              "      <td>C6</td>\n",
              "      <td>S18</td>\n",
              "      <td>0.80</td>\n",
              "      <td>0.3760</td>\n",
              "      <td>1</td>\n",
              "      <td>0.3760</td>\n",
              "    </tr>\n",
              "  </tbody>\n",
              "</table>\n",
              "</div>\n",
              "      <button class=\"colab-df-convert\" onclick=\"convertToInteractive('df-6e5d8cb9-9e98-434f-86a4-c8bd86c8e22f')\"\n",
              "              title=\"Convert this dataframe to an interactive table.\"\n",
              "              style=\"display:none;\">\n",
              "\n",
              "  <svg xmlns=\"http://www.w3.org/2000/svg\" height=\"24px\"viewBox=\"0 0 24 24\"\n",
              "       width=\"24px\">\n",
              "    <path d=\"M0 0h24v24H0V0z\" fill=\"none\"/>\n",
              "    <path d=\"M18.56 5.44l.94 2.06.94-2.06 2.06-.94-2.06-.94-.94-2.06-.94 2.06-2.06.94zm-11 1L8.5 8.5l.94-2.06 2.06-.94-2.06-.94L8.5 2.5l-.94 2.06-2.06.94zm10 10l.94 2.06.94-2.06 2.06-.94-2.06-.94-.94-2.06-.94 2.06-2.06.94z\"/><path d=\"M17.41 7.96l-1.37-1.37c-.4-.4-.92-.59-1.43-.59-.52 0-1.04.2-1.43.59L10.3 9.45l-7.72 7.72c-.78.78-.78 2.05 0 2.83L4 21.41c.39.39.9.59 1.41.59.51 0 1.02-.2 1.41-.59l7.78-7.78 2.81-2.81c.8-.78.8-2.07 0-2.86zM5.41 20L4 18.59l7.72-7.72 1.47 1.35L5.41 20z\"/>\n",
              "  </svg>\n",
              "      </button>\n",
              "\n",
              "\n",
              "\n",
              "    <div id=\"df-60be8af1-868d-40b7-81c6-184fb7ed0d74\">\n",
              "      <button class=\"colab-df-quickchart\" onclick=\"quickchart('df-60be8af1-868d-40b7-81c6-184fb7ed0d74')\"\n",
              "              title=\"Suggest charts.\"\n",
              "              style=\"display:none;\">\n",
              "\n",
              "<svg xmlns=\"http://www.w3.org/2000/svg\" height=\"24px\"viewBox=\"0 0 24 24\"\n",
              "     width=\"24px\">\n",
              "    <g>\n",
              "        <path d=\"M19 3H5c-1.1 0-2 .9-2 2v14c0 1.1.9 2 2 2h14c1.1 0 2-.9 2-2V5c0-1.1-.9-2-2-2zM9 17H7v-7h2v7zm4 0h-2V7h2v10zm4 0h-2v-4h2v4z\"/>\n",
              "    </g>\n",
              "</svg>\n",
              "      </button>\n",
              "    </div>\n",
              "\n",
              "<style>\n",
              "  .colab-df-quickchart {\n",
              "    background-color: #E8F0FE;\n",
              "    border: none;\n",
              "    border-radius: 50%;\n",
              "    cursor: pointer;\n",
              "    display: none;\n",
              "    fill: #1967D2;\n",
              "    height: 32px;\n",
              "    padding: 0 0 0 0;\n",
              "    width: 32px;\n",
              "  }\n",
              "\n",
              "  .colab-df-quickchart:hover {\n",
              "    background-color: #E2EBFA;\n",
              "    box-shadow: 0px 1px 2px rgba(60, 64, 67, 0.3), 0px 1px 3px 1px rgba(60, 64, 67, 0.15);\n",
              "    fill: #174EA6;\n",
              "  }\n",
              "\n",
              "  [theme=dark] .colab-df-quickchart {\n",
              "    background-color: #3B4455;\n",
              "    fill: #D2E3FC;\n",
              "  }\n",
              "\n",
              "  [theme=dark] .colab-df-quickchart:hover {\n",
              "    background-color: #434B5C;\n",
              "    box-shadow: 0px 1px 3px 1px rgba(0, 0, 0, 0.15);\n",
              "    filter: drop-shadow(0px 1px 2px rgba(0, 0, 0, 0.3));\n",
              "    fill: #FFFFFF;\n",
              "  }\n",
              "</style>\n",
              "\n",
              "    <script>\n",
              "      async function quickchart(key) {\n",
              "        const containerElement = document.querySelector('#' + key);\n",
              "        const charts = await google.colab.kernel.invokeFunction(\n",
              "            'suggestCharts', [key], {});\n",
              "      }\n",
              "    </script>\n",
              "\n",
              "      <script>\n",
              "\n",
              "function displayQuickchartButton(domScope) {\n",
              "  let quickchartButtonEl =\n",
              "    domScope.querySelector('#df-60be8af1-868d-40b7-81c6-184fb7ed0d74 button.colab-df-quickchart');\n",
              "  quickchartButtonEl.style.display =\n",
              "    google.colab.kernel.accessAllowed ? 'block' : 'none';\n",
              "}\n",
              "\n",
              "        displayQuickchartButton(document);\n",
              "      </script>\n",
              "      <style>\n",
              "    .colab-df-container {\n",
              "      display:flex;\n",
              "      flex-wrap:wrap;\n",
              "      gap: 12px;\n",
              "    }\n",
              "\n",
              "    .colab-df-convert {\n",
              "      background-color: #E8F0FE;\n",
              "      border: none;\n",
              "      border-radius: 50%;\n",
              "      cursor: pointer;\n",
              "      display: none;\n",
              "      fill: #1967D2;\n",
              "      height: 32px;\n",
              "      padding: 0 0 0 0;\n",
              "      width: 32px;\n",
              "    }\n",
              "\n",
              "    .colab-df-convert:hover {\n",
              "      background-color: #E2EBFA;\n",
              "      box-shadow: 0px 1px 2px rgba(60, 64, 67, 0.3), 0px 1px 3px 1px rgba(60, 64, 67, 0.15);\n",
              "      fill: #174EA6;\n",
              "    }\n",
              "\n",
              "    [theme=dark] .colab-df-convert {\n",
              "      background-color: #3B4455;\n",
              "      fill: #D2E3FC;\n",
              "    }\n",
              "\n",
              "    [theme=dark] .colab-df-convert:hover {\n",
              "      background-color: #434B5C;\n",
              "      box-shadow: 0px 1px 3px 1px rgba(0, 0, 0, 0.15);\n",
              "      filter: drop-shadow(0px 1px 2px rgba(0, 0, 0, 0.3));\n",
              "      fill: #FFFFFF;\n",
              "    }\n",
              "  </style>\n",
              "\n",
              "      <script>\n",
              "        const buttonEl =\n",
              "          document.querySelector('#df-6e5d8cb9-9e98-434f-86a4-c8bd86c8e22f button.colab-df-convert');\n",
              "        buttonEl.style.display =\n",
              "          google.colab.kernel.accessAllowed ? 'block' : 'none';\n",
              "\n",
              "        async function convertToInteractive(key) {\n",
              "          const element = document.querySelector('#df-6e5d8cb9-9e98-434f-86a4-c8bd86c8e22f');\n",
              "          const dataTable =\n",
              "            await google.colab.kernel.invokeFunction('convertToInteractive',\n",
              "                                                     [key], {});\n",
              "          if (!dataTable) return;\n",
              "\n",
              "          const docLinkHtml = 'Like what you see? Visit the ' +\n",
              "            '<a target=\"_blank\" href=https://colab.research.google.com/notebooks/data_table.ipynb>data table notebook</a>'\n",
              "            + ' to learn more about interactive tables.';\n",
              "          element.innerHTML = '';\n",
              "          dataTable['output_type'] = 'display_data';\n",
              "          await google.colab.output.renderOutput(dataTable, element);\n",
              "          const docLink = document.createElement('div');\n",
              "          docLink.innerHTML = docLinkHtml;\n",
              "          element.appendChild(docLink);\n",
              "        }\n",
              "      </script>\n",
              "    </div>\n",
              "  </div>\n"
            ]
          },
          "metadata": {},
          "execution_count": 5
        }
      ]
    },
    {
      "cell_type": "markdown",
      "source": [
        "Lo que se observa es que la aplicación de la metodología voraz, para el estado simplicado del problema, ya arroja una solución que no es mejorable con la aplicación del algorimo metaheurístico. Las soluciones que devuelve resultan ser situaciones no iguales, pero si equivalentes."
      ],
      "metadata": {
        "id": "225p3Zp1LspG"
      }
    },
    {
      "cell_type": "markdown",
      "source": [
        "======================================================================================================================================================================================================================================"
      ],
      "metadata": {
        "id": "RtvYK65_GtTw"
      }
    },
    {
      "cell_type": "markdown",
      "metadata": {
        "id": "eGDB4K6uk1iN"
      },
      "source": [
        "**(*)Calcula la complejidad del algoritmo**"
      ]
    },
    {
      "cell_type": "markdown",
      "metadata": {
        "id": "NhpTh_BPk1ms"
      },
      "source": [
        "Respuesta"
      ]
    },
    {
      "cell_type": "markdown",
      "source": [
        "La complejidad del algoritmo diseñado es cuadrática O(n**2).\n",
        "La función que genera esta complejidad es: 'generar_partidos_voraz' con el doble bucle que ejecuta."
      ],
      "metadata": {
        "id": "HLth4TkoTfh_"
      }
    },
    {
      "cell_type": "markdown",
      "source": [
        "======================================================================================================================================================================================================================================"
      ],
      "metadata": {
        "id": "N1H8wv4ZwNxS"
      }
    },
    {
      "cell_type": "markdown",
      "metadata": {
        "id": "3M6QjTsSkmYe"
      },
      "source": [
        "**Según el problema (y tenga sentido), diseña un juego de datos de entrada aleatorios**"
      ]
    },
    {
      "cell_type": "markdown",
      "metadata": {
        "id": "Jc3_OlyNkvjZ"
      },
      "source": [
        "Respuesta"
      ]
    },
    {
      "cell_type": "markdown",
      "source": [
        "Para la aplicación del algoritmo diseñado anteriormente se necesita de 3 entradas:\n",
        "\n",
        "\n",
        "*   Horario, compuesto de dia y hora.\n",
        "*   Lista de los coeficientes de reducción de audiencia correspondientes.\n",
        "*   Lista de equipos y posibles combinaciones entre ellos.\n",
        "\n",
        "A continuación se presentan las funciones que generan estos datos de entrada."
      ],
      "metadata": {
        "id": "X5SxeV7bMXNl"
      }
    },
    {
      "cell_type": "code",
      "source": [
        "def generar_dia_aleatorio():\n",
        "\n",
        "    #Se generan días aleatorios entre sabado y domingo. El lunes y viernes se agregarán después ya que, por una restricción del enunciado, no deben repetirse en la lista aleatoria generada\n",
        "    dias = ['S', 'D']\n",
        "    dias_aleatorios = random.choice(dias)\n",
        "    return str(dias_aleatorios)\n",
        "\n",
        "#-------------------------------------------------------------------\n",
        "def hora_aleatoria():\n",
        "\n",
        "    #Se generan horas aleatorias\n",
        "    hora = [12,16,18,20]\n",
        "    hora_aleatoria = random.choice(hora)\n",
        "    return str(hora_aleatoria)\n",
        "\n",
        "#-------------------------------------------------------------------\n",
        "\n",
        "def coeficiente_aleatorio(horario_aleatorio):\n",
        "\n",
        "  #Se genera una lista de coeficientes acorde a los dias y horarios determinados\n",
        "  coeficiente_aleatorio = []\n",
        "\n",
        "  for i in range(len(horario_aleatorio)):\n",
        "    if horario_aleatorio[i] == 'S20': coeficiente_aleatorio.append(1)\n",
        "    if horario_aleatorio[i] == 'D20': coeficiente_aleatorio.append(1)\n",
        "    if horario_aleatorio[i] == 'D18': coeficiente_aleatorio.append(0.85)\n",
        "    if horario_aleatorio[i] == 'S18': coeficiente_aleatorio.append(0.8)\n",
        "    if horario_aleatorio[i] == 'D16': coeficiente_aleatorio.append(0.75)\n",
        "    if horario_aleatorio[i] == 'S16': coeficiente_aleatorio.append(0.7)\n",
        "    if horario_aleatorio[i] == 'S12': coeficiente_aleatorio.append(0.55)\n",
        "    if horario_aleatorio[i] == 'D12': coeficiente_aleatorio.append(0.45)\n",
        "    if horario_aleatorio[i] == 'V20': coeficiente_aleatorio.append(0.4)\n",
        "    if horario_aleatorio[i] == 'L20': coeficiente_aleatorio.append(0.4)\n",
        "\n",
        "  return coeficiente_aleatorio\n",
        "\n",
        "#-------------------------------------------------------------------\n",
        "\n",
        "horario_aleatorio = []\n",
        "\n",
        "#Bucle para iterar de 0 a 8, ya que los últimos 2 días (viernes y lunes) se agregan al final para que unicamente se encuentren una unica vez.\n",
        "for i in range(8):\n",
        "    dia = generar_dia_aleatorio()\n",
        "    hora = hora_aleatoria()\n",
        "    horario_aleatorio.append(dia+hora)\n",
        "\n",
        "horario_aleatorio.append('V20')\n",
        "horario_aleatorio.append('L20')\n",
        "\n",
        "horario_aleatorio = random.sample(horario_aleatorio, len(horario_aleatorio))    #la lista final se mezcla aleatoriamente\n",
        "coeficiente_aleatorio = coeficiente_aleatorio(horario_aleatorio)\n",
        "equipos_aletaroio = genera_equipos()\n",
        "lista_partidos_aleatorio = random.sample(equipos_aletaroio, len(equipos_aletaroio)) #la lista final se mezcla aleatoriamente\n",
        "\n",
        "#-------------------------------------------------------------------\n",
        "\n",
        "print('Los datos aleatorios generados son:')\n",
        "print('Horario: ', horario_aleatorio)\n",
        "print('Coeficientes: ', coeficiente_aleatorio)\n",
        "print('Equipos: ', lista_partidos_aleatorio)"
      ],
      "metadata": {
        "colab": {
          "base_uri": "https://localhost:8080/"
        },
        "id": "TZn3PqoUwdLE",
        "outputId": "439fa455-fcf7-4329-a761-eeeac596eca7"
      },
      "execution_count": 6,
      "outputs": [
        {
          "output_type": "stream",
          "name": "stdout",
          "text": [
            "Los datos aleatorios generados son:\n",
            "Horario:  ['S12', 'S12', 'D18', 'D16', 'D12', 'D12', 'D18', 'L20', 'V20', 'S20']\n",
            "Coeficientes:  [0.55, 0.55, 0.85, 0.75, 0.45, 0.45, 0.85, 0.4, 0.4, 1]\n",
            "Equipos:  [('A1', 'B9'), ('B8', 'C1'), ('A3', 'C3'), ('C3', 'C4'), ('B1', 'C3'), ('B6', 'C2'), ('B6', 'C4'), ('C2', 'C6'), ('C5', 'C6'), ('B1', 'B5'), ('B9', 'C4'), ('C1', 'C5'), ('B1', 'B7'), ('B3', 'C5'), ('B3', 'C6'), ('B11', 'C1'), ('C3', 'C6'), ('A1', 'C4'), ('B1', 'B10'), ('B9', 'B11'), ('B1', 'C1'), ('B1', 'C2'), ('C2', 'C4'), ('B10', 'B11'), ('B2', 'B9'), ('A2', 'C4'), ('B7', 'C4'), ('A3', 'C1'), ('B7', 'C2'), ('B1', 'B4'), ('A3', 'C4'), ('B10', 'C5'), ('A3', 'C6'), ('B6', 'B7'), ('B1', 'C5'), ('A2', 'B2'), ('A1', 'B2'), ('A1', 'C2'), ('B1', 'B2'), ('A3', 'B1'), ('B5', 'C6'), ('B3', 'B5'), ('B4', 'B10'), ('A2', 'B5'), ('A2', 'C6'), ('A2', 'C5'), ('B10', 'C6'), ('B7', 'B10'), ('A1', 'B11'), ('B2', 'B7'), ('B2', 'B10'), ('B3', 'C3'), ('B3', 'B8'), ('B6', 'B11'), ('B4', 'C5'), ('B5', 'B7'), ('C1', 'C2'), ('B5', 'B8'), ('A1', 'B5'), ('B10', 'C1'), ('A3', 'B5'), ('A1', 'B10'), ('B3', 'B10'), ('B10', 'C3'), ('B9', 'C5'), ('A1', 'B3'), ('B4', 'C2'), ('B5', 'B11'), ('B4', 'B9'), ('B9', 'C2'), ('B3', 'C1'), ('B1', 'B6'), ('A3', 'B7'), ('B6', 'B10'), ('B6', 'C3'), ('B8', 'C5'), ('B2', 'B6'), ('C2', 'C3'), ('B11', 'C4'), ('A3', 'B9'), ('B4', 'C1'), ('A2', 'B6'), ('A1', 'B6'), ('A2', 'C1'), ('B8', 'B11'), ('B8', 'C3'), ('C1', 'C3'), ('B4', 'B11'), ('B10', 'C4'), ('B9', 'B10'), ('B1', 'B3'), ('B3', 'B7'), ('C4', 'C6'), ('B6', 'C6'), ('B6', 'B9'), ('B2', 'B5'), ('B3', 'C2'), ('C2', 'C5'), ('A2', 'C3'), ('C4', 'C5'), ('B2', 'C6'), ('A1', 'C3'), ('B3', 'B11'), ('B11', 'C2'), ('A2', 'B3'), ('B5', 'C1'), ('B2', 'B8'), ('B9', 'C1'), ('B3', 'B4'), ('A3', 'C2'), ('A3', 'B2'), ('B6', 'C1'), ('A1', 'B8'), ('B11', 'C5'), ('B4', 'C4'), ('A1', 'C5'), ('B3', 'B6'), ('A1', 'A2'), ('A2', 'A3'), ('B2', 'C5'), ('A2', 'B9'), ('B8', 'B9'), ('A2', 'B7'), ('A1', 'C1'), ('B1', 'C4'), ('B3', 'B9'), ('A3', 'B3'), ('A3', 'B10'), ('B7', 'B9'), ('B5', 'C4'), ('B5', 'B9'), ('A3', 'C5'), ('B5', 'C5'), ('C3', 'C5'), ('B11', 'C3'), ('B2', 'C3'), ('A1', 'B1'), ('A2', 'C2'), ('A2', 'B4'), ('B11', 'C6'), ('B2', 'B3'), ('B1', 'B11'), ('B1', 'C6'), ('A1', 'B4'), ('B2', 'C1'), ('B10', 'C2'), ('B4', 'B5'), ('B7', 'B8'), ('A3', 'B8'), ('B2', 'B4'), ('A3', 'B4'), ('B4', 'C3'), ('B5', 'B6'), ('B7', 'C1'), ('B7', 'C3'), ('A1', 'C6'), ('B1', 'B8'), ('B2', 'C2'), ('C1', 'C6'), ('B9', 'C3'), ('A2', 'B1'), ('B7', 'C5'), ('B9', 'C6'), ('B5', 'C3'), ('B4', 'B8'), ('A2', 'B8'), ('B6', 'B8'), ('B7', 'C6'), ('B8', 'C2'), ('B2', 'C4'), ('B3', 'C4'), ('B8', 'C4'), ('B2', 'B11'), ('A1', 'B7'), ('B7', 'B11'), ('B4', 'B6'), ('A3', 'B11'), ('A2', 'B10'), ('B6', 'C5'), ('B5', 'B10'), ('A2', 'B11'), ('B5', 'C2'), ('B8', 'C6'), ('B8', 'B10'), ('B1', 'B9'), ('C1', 'C4'), ('A3', 'B6'), ('B4', 'B7'), ('A1', 'A3'), ('B4', 'C6')]\n"
          ]
        }
      ]
    },
    {
      "cell_type": "markdown",
      "source": [
        "======================================================================================================================================================================================================================================"
      ],
      "metadata": {
        "id": "39BQECYWwja8"
      }
    },
    {
      "cell_type": "markdown",
      "metadata": {
        "id": "zy5ZROmjlGo1"
      },
      "source": [
        "**Aplica el algoritmo al juego de datos generado**"
      ]
    },
    {
      "cell_type": "markdown",
      "metadata": {
        "id": "_Cmj-PVylMsa"
      },
      "source": [
        "Respuesta"
      ]
    },
    {
      "cell_type": "markdown",
      "source": [
        "En base a los datos aleatorios generados, se realiza el llamado a la función del algoritmo definiendo adicionalmente el valor de temperatura inicial como de 10000000.\n",
        "\n",
        "Al contrario de lo que ocurría anteriormente, en este escenario si se estan evaluando coincidencias de horarios entre los partidos con su correpondiente penalización por coincidencia.\n",
        "\n",
        "En estas ejecuciones tampoco fue encontrada una solución mejor que la encontrada por el algoritmo voraz."
      ],
      "metadata": {
        "id": "BDjmxeYwNmKL"
      }
    },
    {
      "cell_type": "code",
      "metadata": {
        "id": "nREzhkStlCq8",
        "colab": {
          "base_uri": "https://localhost:8080/",
          "height": 623
        },
        "outputId": "e2b58d2d-c411-4a68-a0cf-4fc3b5a0e427"
      },
      "source": [
        "horarios_referencia = horario_aleatorio\n",
        "coeficientes_referencia = coeficiente_aleatorio\n",
        "lista_partidos = lista_partidos_aleatorio\n",
        "Temperatura_ini = 10000000\n",
        "\n",
        "#Se aplica la función de recocido_simulado con los datos aleteatorios generados anteriormente.\n",
        "solucion,df  = recocido_simulado(Temperatura_ini,lista_partidos,horarios_referencia,coeficientes_referencia)\n",
        "df"
      ],
      "execution_count": 7,
      "outputs": [
        {
          "output_type": "stream",
          "name": "stdout",
          "text": [
            "La solución de referencia es:  ['S12', 'S12', 'D18', 'D16', 'D12', 'D12', 'D18', 'L20', 'V20', 'S20']\n",
            "La audiencia de referencia es:  4.63725\n",
            "------------------------------------------\n",
            "La audiencia vecina número  1 es: 4.626875\n",
            "La audiencia vecina número  9 es: 4.634125\n",
            "La audiencia vecina número  11 es: 4.6591249999999995\n",
            "La audiencia vecina número  18 es: 4.72725\n",
            "La audiencia vecina número  19 es: 4.979875\n",
            "La audiencia vecina número  21 es: 5.024875\n",
            "La audiencia vecina número  34 es: 5.055\n",
            "La audiencia vecina número  39 es: 5.157125\n",
            "La audiencia vecina número  155 es: 5.183999999999999\n",
            "La audiencia vecina número  156 es: 5.184\n",
            "La mejor solución encontrada es ['S12', 'S20', 'S12', 'D18', 'L20', 'D16', 'D18', 'D12', 'D12', 'V20']\n",
            "con una distancia total de 5.184\n"
          ]
        },
        {
          "output_type": "execute_result",
          "data": {
            "text/plain": [
              "  Equipo1 Equipo2 Horario  Coeficientes  Audiencia Estimada  Coef_de_corr  \\\n",
              "0      A1      A2     S12          0.55              1.1000          0.75   \n",
              "1      B2      B8     S12          0.55              0.4950          0.75   \n",
              "2      A3      B1     D12          0.45              0.5850          0.75   \n",
              "3      B4     B10     D12          0.45              0.4050          0.75   \n",
              "4      B9     B11     V20          0.40              0.3600          1.00   \n",
              "5      B6      B7     D18          0.85              0.7650          0.75   \n",
              "6      C1      C5     D18          0.85              0.3995          0.75   \n",
              "7      B3      B5     L20          0.40              0.3600          1.00   \n",
              "8      C3      C4     S20          1.00              0.4700          1.00   \n",
              "9      C2      C6     D16          0.75              0.3525          1.00   \n",
              "\n",
              "   Correción coincidencia  \n",
              "0                0.825000  \n",
              "1                0.371250  \n",
              "2                0.438750  \n",
              "3                0.303750  \n",
              "4                0.360000  \n",
              "5                0.573750  \n",
              "6                0.299625  \n",
              "7                0.360000  \n",
              "8                0.470000  \n",
              "9                0.352500  "
            ],
            "text/html": [
              "\n",
              "\n",
              "  <div id=\"df-fd51e733-c303-4724-bbb6-7851df2aa042\">\n",
              "    <div class=\"colab-df-container\">\n",
              "      <div>\n",
              "<style scoped>\n",
              "    .dataframe tbody tr th:only-of-type {\n",
              "        vertical-align: middle;\n",
              "    }\n",
              "\n",
              "    .dataframe tbody tr th {\n",
              "        vertical-align: top;\n",
              "    }\n",
              "\n",
              "    .dataframe thead th {\n",
              "        text-align: right;\n",
              "    }\n",
              "</style>\n",
              "<table border=\"1\" class=\"dataframe\">\n",
              "  <thead>\n",
              "    <tr style=\"text-align: right;\">\n",
              "      <th></th>\n",
              "      <th>Equipo1</th>\n",
              "      <th>Equipo2</th>\n",
              "      <th>Horario</th>\n",
              "      <th>Coeficientes</th>\n",
              "      <th>Audiencia Estimada</th>\n",
              "      <th>Coef_de_corr</th>\n",
              "      <th>Correción coincidencia</th>\n",
              "    </tr>\n",
              "  </thead>\n",
              "  <tbody>\n",
              "    <tr>\n",
              "      <th>0</th>\n",
              "      <td>A1</td>\n",
              "      <td>A2</td>\n",
              "      <td>S12</td>\n",
              "      <td>0.55</td>\n",
              "      <td>1.1000</td>\n",
              "      <td>0.75</td>\n",
              "      <td>0.825000</td>\n",
              "    </tr>\n",
              "    <tr>\n",
              "      <th>1</th>\n",
              "      <td>B2</td>\n",
              "      <td>B8</td>\n",
              "      <td>S12</td>\n",
              "      <td>0.55</td>\n",
              "      <td>0.4950</td>\n",
              "      <td>0.75</td>\n",
              "      <td>0.371250</td>\n",
              "    </tr>\n",
              "    <tr>\n",
              "      <th>2</th>\n",
              "      <td>A3</td>\n",
              "      <td>B1</td>\n",
              "      <td>D12</td>\n",
              "      <td>0.45</td>\n",
              "      <td>0.5850</td>\n",
              "      <td>0.75</td>\n",
              "      <td>0.438750</td>\n",
              "    </tr>\n",
              "    <tr>\n",
              "      <th>3</th>\n",
              "      <td>B4</td>\n",
              "      <td>B10</td>\n",
              "      <td>D12</td>\n",
              "      <td>0.45</td>\n",
              "      <td>0.4050</td>\n",
              "      <td>0.75</td>\n",
              "      <td>0.303750</td>\n",
              "    </tr>\n",
              "    <tr>\n",
              "      <th>4</th>\n",
              "      <td>B9</td>\n",
              "      <td>B11</td>\n",
              "      <td>V20</td>\n",
              "      <td>0.40</td>\n",
              "      <td>0.3600</td>\n",
              "      <td>1.00</td>\n",
              "      <td>0.360000</td>\n",
              "    </tr>\n",
              "    <tr>\n",
              "      <th>5</th>\n",
              "      <td>B6</td>\n",
              "      <td>B7</td>\n",
              "      <td>D18</td>\n",
              "      <td>0.85</td>\n",
              "      <td>0.7650</td>\n",
              "      <td>0.75</td>\n",
              "      <td>0.573750</td>\n",
              "    </tr>\n",
              "    <tr>\n",
              "      <th>6</th>\n",
              "      <td>C1</td>\n",
              "      <td>C5</td>\n",
              "      <td>D18</td>\n",
              "      <td>0.85</td>\n",
              "      <td>0.3995</td>\n",
              "      <td>0.75</td>\n",
              "      <td>0.299625</td>\n",
              "    </tr>\n",
              "    <tr>\n",
              "      <th>7</th>\n",
              "      <td>B3</td>\n",
              "      <td>B5</td>\n",
              "      <td>L20</td>\n",
              "      <td>0.40</td>\n",
              "      <td>0.3600</td>\n",
              "      <td>1.00</td>\n",
              "      <td>0.360000</td>\n",
              "    </tr>\n",
              "    <tr>\n",
              "      <th>8</th>\n",
              "      <td>C3</td>\n",
              "      <td>C4</td>\n",
              "      <td>S20</td>\n",
              "      <td>1.00</td>\n",
              "      <td>0.4700</td>\n",
              "      <td>1.00</td>\n",
              "      <td>0.470000</td>\n",
              "    </tr>\n",
              "    <tr>\n",
              "      <th>9</th>\n",
              "      <td>C2</td>\n",
              "      <td>C6</td>\n",
              "      <td>D16</td>\n",
              "      <td>0.75</td>\n",
              "      <td>0.3525</td>\n",
              "      <td>1.00</td>\n",
              "      <td>0.352500</td>\n",
              "    </tr>\n",
              "  </tbody>\n",
              "</table>\n",
              "</div>\n",
              "      <button class=\"colab-df-convert\" onclick=\"convertToInteractive('df-fd51e733-c303-4724-bbb6-7851df2aa042')\"\n",
              "              title=\"Convert this dataframe to an interactive table.\"\n",
              "              style=\"display:none;\">\n",
              "\n",
              "  <svg xmlns=\"http://www.w3.org/2000/svg\" height=\"24px\"viewBox=\"0 0 24 24\"\n",
              "       width=\"24px\">\n",
              "    <path d=\"M0 0h24v24H0V0z\" fill=\"none\"/>\n",
              "    <path d=\"M18.56 5.44l.94 2.06.94-2.06 2.06-.94-2.06-.94-.94-2.06-.94 2.06-2.06.94zm-11 1L8.5 8.5l.94-2.06 2.06-.94-2.06-.94L8.5 2.5l-.94 2.06-2.06.94zm10 10l.94 2.06.94-2.06 2.06-.94-2.06-.94-.94-2.06-.94 2.06-2.06.94z\"/><path d=\"M17.41 7.96l-1.37-1.37c-.4-.4-.92-.59-1.43-.59-.52 0-1.04.2-1.43.59L10.3 9.45l-7.72 7.72c-.78.78-.78 2.05 0 2.83L4 21.41c.39.39.9.59 1.41.59.51 0 1.02-.2 1.41-.59l7.78-7.78 2.81-2.81c.8-.78.8-2.07 0-2.86zM5.41 20L4 18.59l7.72-7.72 1.47 1.35L5.41 20z\"/>\n",
              "  </svg>\n",
              "      </button>\n",
              "\n",
              "\n",
              "\n",
              "    <div id=\"df-148c6f4c-7c31-4df0-a1a4-1b96dcac5498\">\n",
              "      <button class=\"colab-df-quickchart\" onclick=\"quickchart('df-148c6f4c-7c31-4df0-a1a4-1b96dcac5498')\"\n",
              "              title=\"Suggest charts.\"\n",
              "              style=\"display:none;\">\n",
              "\n",
              "<svg xmlns=\"http://www.w3.org/2000/svg\" height=\"24px\"viewBox=\"0 0 24 24\"\n",
              "     width=\"24px\">\n",
              "    <g>\n",
              "        <path d=\"M19 3H5c-1.1 0-2 .9-2 2v14c0 1.1.9 2 2 2h14c1.1 0 2-.9 2-2V5c0-1.1-.9-2-2-2zM9 17H7v-7h2v7zm4 0h-2V7h2v10zm4 0h-2v-4h2v4z\"/>\n",
              "    </g>\n",
              "</svg>\n",
              "      </button>\n",
              "    </div>\n",
              "\n",
              "<style>\n",
              "  .colab-df-quickchart {\n",
              "    background-color: #E8F0FE;\n",
              "    border: none;\n",
              "    border-radius: 50%;\n",
              "    cursor: pointer;\n",
              "    display: none;\n",
              "    fill: #1967D2;\n",
              "    height: 32px;\n",
              "    padding: 0 0 0 0;\n",
              "    width: 32px;\n",
              "  }\n",
              "\n",
              "  .colab-df-quickchart:hover {\n",
              "    background-color: #E2EBFA;\n",
              "    box-shadow: 0px 1px 2px rgba(60, 64, 67, 0.3), 0px 1px 3px 1px rgba(60, 64, 67, 0.15);\n",
              "    fill: #174EA6;\n",
              "  }\n",
              "\n",
              "  [theme=dark] .colab-df-quickchart {\n",
              "    background-color: #3B4455;\n",
              "    fill: #D2E3FC;\n",
              "  }\n",
              "\n",
              "  [theme=dark] .colab-df-quickchart:hover {\n",
              "    background-color: #434B5C;\n",
              "    box-shadow: 0px 1px 3px 1px rgba(0, 0, 0, 0.15);\n",
              "    filter: drop-shadow(0px 1px 2px rgba(0, 0, 0, 0.3));\n",
              "    fill: #FFFFFF;\n",
              "  }\n",
              "</style>\n",
              "\n",
              "    <script>\n",
              "      async function quickchart(key) {\n",
              "        const containerElement = document.querySelector('#' + key);\n",
              "        const charts = await google.colab.kernel.invokeFunction(\n",
              "            'suggestCharts', [key], {});\n",
              "      }\n",
              "    </script>\n",
              "\n",
              "      <script>\n",
              "\n",
              "function displayQuickchartButton(domScope) {\n",
              "  let quickchartButtonEl =\n",
              "    domScope.querySelector('#df-148c6f4c-7c31-4df0-a1a4-1b96dcac5498 button.colab-df-quickchart');\n",
              "  quickchartButtonEl.style.display =\n",
              "    google.colab.kernel.accessAllowed ? 'block' : 'none';\n",
              "}\n",
              "\n",
              "        displayQuickchartButton(document);\n",
              "      </script>\n",
              "      <style>\n",
              "    .colab-df-container {\n",
              "      display:flex;\n",
              "      flex-wrap:wrap;\n",
              "      gap: 12px;\n",
              "    }\n",
              "\n",
              "    .colab-df-convert {\n",
              "      background-color: #E8F0FE;\n",
              "      border: none;\n",
              "      border-radius: 50%;\n",
              "      cursor: pointer;\n",
              "      display: none;\n",
              "      fill: #1967D2;\n",
              "      height: 32px;\n",
              "      padding: 0 0 0 0;\n",
              "      width: 32px;\n",
              "    }\n",
              "\n",
              "    .colab-df-convert:hover {\n",
              "      background-color: #E2EBFA;\n",
              "      box-shadow: 0px 1px 2px rgba(60, 64, 67, 0.3), 0px 1px 3px 1px rgba(60, 64, 67, 0.15);\n",
              "      fill: #174EA6;\n",
              "    }\n",
              "\n",
              "    [theme=dark] .colab-df-convert {\n",
              "      background-color: #3B4455;\n",
              "      fill: #D2E3FC;\n",
              "    }\n",
              "\n",
              "    [theme=dark] .colab-df-convert:hover {\n",
              "      background-color: #434B5C;\n",
              "      box-shadow: 0px 1px 3px 1px rgba(0, 0, 0, 0.15);\n",
              "      filter: drop-shadow(0px 1px 2px rgba(0, 0, 0, 0.3));\n",
              "      fill: #FFFFFF;\n",
              "    }\n",
              "  </style>\n",
              "\n",
              "      <script>\n",
              "        const buttonEl =\n",
              "          document.querySelector('#df-fd51e733-c303-4724-bbb6-7851df2aa042 button.colab-df-convert');\n",
              "        buttonEl.style.display =\n",
              "          google.colab.kernel.accessAllowed ? 'block' : 'none';\n",
              "\n",
              "        async function convertToInteractive(key) {\n",
              "          const element = document.querySelector('#df-fd51e733-c303-4724-bbb6-7851df2aa042');\n",
              "          const dataTable =\n",
              "            await google.colab.kernel.invokeFunction('convertToInteractive',\n",
              "                                                     [key], {});\n",
              "          if (!dataTable) return;\n",
              "\n",
              "          const docLinkHtml = 'Like what you see? Visit the ' +\n",
              "            '<a target=\"_blank\" href=https://colab.research.google.com/notebooks/data_table.ipynb>data table notebook</a>'\n",
              "            + ' to learn more about interactive tables.';\n",
              "          element.innerHTML = '';\n",
              "          dataTable['output_type'] = 'display_data';\n",
              "          await google.colab.output.renderOutput(dataTable, element);\n",
              "          const docLink = document.createElement('div');\n",
              "          docLink.innerHTML = docLinkHtml;\n",
              "          element.appendChild(docLink);\n",
              "        }\n",
              "      </script>\n",
              "    </div>\n",
              "  </div>\n"
            ]
          },
          "metadata": {},
          "execution_count": 7
        }
      ]
    },
    {
      "cell_type": "markdown",
      "source": [
        "======================================================================================================================================================================================================================================"
      ],
      "metadata": {
        "id": "9hS3zNLNwWFE"
      }
    },
    {
      "cell_type": "markdown",
      "metadata": {
        "id": "eTFWUJQrtGcv"
      },
      "source": [
        "**Enumera las referencias que has utilizado(si ha sido necesario) para llevar a cabo el trabajo**"
      ]
    },
    {
      "cell_type": "markdown",
      "metadata": {
        "id": "YKQ_mRBttWsP"
      },
      "source": [
        "Respuesta"
      ]
    },
    {
      "cell_type": "markdown",
      "source": [
        "Las referencias utilizadas en el trabajo han sido:\n",
        "\n",
        "\n",
        "*   Material teórico en pdf brindado por la asignatura.\n",
        "*   Actividades guiadas.\n",
        "\n"
      ],
      "metadata": {
        "id": "NouILRzDOeLu"
      }
    },
    {
      "cell_type": "markdown",
      "source": [
        "======================================================================================================================================================================================================================================"
      ],
      "metadata": {
        "id": "eeh4FOH1OdVi"
      }
    },
    {
      "cell_type": "markdown",
      "metadata": {
        "id": "kAkDPUyRtYyH"
      },
      "source": [
        "**Describe brevemente las lineas de como crees que es posible avanzar en el estudio del problema. Ten en cuenta incluso posibles variaciones del problema y/o variaciones al alza del tamaño.**"
      ]
    },
    {
      "cell_type": "markdown",
      "metadata": {
        "id": "IE0uZmo-tZu-"
      },
      "source": [
        "Respuesta"
      ]
    },
    {
      "cell_type": "markdown",
      "source": [
        "Dados los criterios simplificativos aplicados durante el trabajo, es posible que las limitaciones se hayan aplicado en exceso impidiendo la búsqueda de soluciones en zonas no permitidas.\n",
        "\n",
        "Una mejora potencial del algoritmo diseñado podría ser liberar el espacio de búsqueda. Realizar esta acción tendría un impacto en la cantidad de potenciales soluciones que quedarían habilitadas para su estudio lo que puede justificar el uso de algoritmos evolutivos."
      ],
      "metadata": {
        "id": "ZfeOWCypO0Pn"
      }
    },
    {
      "cell_type": "markdown",
      "source": [
        "======================================================================================================================================================================================================================================"
      ],
      "metadata": {
        "id": "P7dh4WS9Ozeo"
      }
    }
  ]
}