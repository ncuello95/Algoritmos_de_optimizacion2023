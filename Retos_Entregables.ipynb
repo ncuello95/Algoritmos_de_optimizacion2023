{
  "nbformat": 4,
  "nbformat_minor": 0,
  "metadata": {
    "colab": {
      "provenance": [],
      "authorship_tag": "ABX9TyM8gVnHrybl6NoxCCeoQwjE",
      "include_colab_link": true
    },
    "kernelspec": {
      "name": "python3",
      "display_name": "Python 3"
    },
    "language_info": {
      "name": "python"
    }
  },
  "cells": [
    {
      "cell_type": "markdown",
      "metadata": {
        "id": "view-in-github",
        "colab_type": "text"
      },
      "source": [
        "<a href=\"https://colab.research.google.com/github/ncuello95/Algoritmos_de_optimizacion2023/blob/main/Retos_Entregables.ipynb\" target=\"_parent\"><img src=\"https://colab.research.google.com/assets/colab-badge.svg\" alt=\"Open In Colab\"/></a>"
      ]
    },
    {
      "cell_type": "markdown",
      "source": [
        "# Retos\n",
        "Nombre: Nicolás Emiliano Cuello Oliver <br>\n",
        "Link:   https://colab.research.google.com/drive/1rfct4FLLRnLnN7YpocegTR3xA5TS2opr?usp=sharing <br>\n",
        "Github: https://github.com/ncuello95/Algoritmos_de_optimizacion2023\n",
        "<br>"
      ],
      "metadata": {
        "id": "NS_kbBx8urOR"
      }
    },
    {
      "cell_type": "markdown",
      "source": [
        "Reto VC-1\n",
        "Implementa el algoritmo de la Criba de Erastótenes para encontrar número primos. Encuentra los números primos entre los 10.000 primeros números naturales"
      ],
      "metadata": {
        "id": "NR8PwhZ7pDXD"
      }
    },
    {
      "cell_type": "code",
      "execution_count": 14,
      "metadata": {
        "id": "EICvBDVCpBEw",
        "colab": {
          "base_uri": "https://localhost:8080/",
          "height": 0
        },
        "outputId": "aba299c3-798b-4b11-ad0d-7d336ad7d9f4"
      },
      "outputs": [
        {
          "output_type": "stream",
          "name": "stdout",
          "text": [
            "[2, 3, 5, 7, 11, 13, 17, 19, 23, 29, 31, 37, 41, 43, 47, 53, 59, 61, 67, 71, 73, 79, 83, 89, 97, 101, 103, 107, 109, 113, 127, 131, 137, 139, 149, 151, 157, 163, 167, 173, 179, 181, 191, 193, 197, 199, 211, 223, 227, 229, 233, 239, 241, 251, 257, 263, 269, 271, 277, 281, 283, 293, 307, 311, 313, 317, 331, 337, 347, 349, 353, 359, 367, 373, 379, 383, 389, 397, 401, 409, 419, 421, 431, 433, 439, 443, 449, 457, 461, 463, 467, 479, 487, 491, 499, 503, 509, 521, 523, 541, 547, 557, 563, 569, 571, 577, 587, 593, 599, 601, 607, 613, 617, 619, 631, 641, 643, 647, 653, 659, 661, 673, 677, 683, 691, 701, 709, 719, 727, 733, 739, 743, 751, 757, 761, 769, 773, 787, 797, 809, 811, 821, 823, 827, 829, 839, 853, 857, 859, 863, 877, 881, 883, 887, 907, 911, 919, 929, 937, 941, 947, 953, 967, 971, 977, 983, 991, 997, 1009, 1013, 1019, 1021, 1031, 1033, 1039, 1049, 1051, 1061, 1063, 1069, 1087, 1091, 1093, 1097, 1103, 1109, 1117, 1123, 1129, 1151, 1153, 1163, 1171, 1181, 1187, 1193, 1201, 1213, 1217, 1223, 1229, 1231, 1237, 1249, 1259, 1277, 1279, 1283, 1289, 1291, 1297, 1301, 1303, 1307, 1319, 1321, 1327, 1361, 1367, 1373, 1381, 1399, 1409, 1423, 1427, 1429, 1433, 1439, 1447, 1451, 1453, 1459, 1471, 1481, 1483, 1487, 1489, 1493, 1499, 1511, 1523, 1531, 1543, 1549, 1553, 1559, 1567, 1571, 1579, 1583, 1597, 1601, 1607, 1609, 1613, 1619, 1621, 1627, 1637, 1657, 1663, 1667, 1669, 1693, 1697, 1699, 1709, 1721, 1723, 1733, 1741, 1747, 1753, 1759, 1777, 1783, 1787, 1789, 1801, 1811, 1823, 1831, 1847, 1861, 1867, 1871, 1873, 1877, 1879, 1889, 1901, 1907, 1913, 1931, 1933, 1949, 1951, 1973, 1979, 1987, 1993, 1997, 1999, 2003, 2011, 2017, 2027, 2029, 2039, 2053, 2063, 2069, 2081, 2083, 2087, 2089, 2099, 2111, 2113, 2129, 2131, 2137, 2141, 2143, 2153, 2161, 2179, 2203, 2207, 2213, 2221, 2237, 2239, 2243, 2251, 2267, 2269, 2273, 2281, 2287, 2293, 2297, 2309, 2311, 2333, 2339, 2341, 2347, 2351, 2357, 2371, 2377, 2381, 2383, 2389, 2393, 2399, 2411, 2417, 2423, 2437, 2441, 2447, 2459, 2467, 2473, 2477, 2503, 2521, 2531, 2539, 2543, 2549, 2551, 2557, 2579, 2591, 2593, 2609, 2617, 2621, 2633, 2647, 2657, 2659, 2663, 2671, 2677, 2683, 2687, 2689, 2693, 2699, 2707, 2711, 2713, 2719, 2729, 2731, 2741, 2749, 2753, 2767, 2777, 2789, 2791, 2797, 2801, 2803, 2819, 2833, 2837, 2843, 2851, 2857, 2861, 2879, 2887, 2897, 2903, 2909, 2917, 2927, 2939, 2953, 2957, 2963, 2969, 2971, 2999, 3001, 3011, 3019, 3023, 3037, 3041, 3049, 3061, 3067, 3079, 3083, 3089, 3109, 3119, 3121, 3137, 3163, 3167, 3169, 3181, 3187, 3191, 3203, 3209, 3217, 3221, 3229, 3251, 3253, 3257, 3259, 3271, 3299, 3301, 3307, 3313, 3319, 3323, 3329, 3331, 3343, 3347, 3359, 3361, 3371, 3373, 3389, 3391, 3407, 3413, 3433, 3449, 3457, 3461, 3463, 3467, 3469, 3491, 3499, 3511, 3517, 3527, 3529, 3533, 3539, 3541, 3547, 3557, 3559, 3571, 3581, 3583, 3593, 3607, 3613, 3617, 3623, 3631, 3637, 3643, 3659, 3671, 3673, 3677, 3691, 3697, 3701, 3709, 3719, 3727, 3733, 3739, 3761, 3767, 3769, 3779, 3793, 3797, 3803, 3821, 3823, 3833, 3847, 3851, 3853, 3863, 3877, 3881, 3889, 3907, 3911, 3917, 3919, 3923, 3929, 3931, 3943, 3947, 3967, 3989, 4001, 4003, 4007, 4013, 4019, 4021, 4027, 4049, 4051, 4057, 4073, 4079, 4091, 4093, 4099, 4111, 4127, 4129, 4133, 4139, 4153, 4157, 4159, 4177, 4201, 4211, 4217, 4219, 4229, 4231, 4241, 4243, 4253, 4259, 4261, 4271, 4273, 4283, 4289, 4297, 4327, 4337, 4339, 4349, 4357, 4363, 4373, 4391, 4397, 4409, 4421, 4423, 4441, 4447, 4451, 4457, 4463, 4481, 4483, 4493, 4507, 4513, 4517, 4519, 4523, 4547, 4549, 4561, 4567, 4583, 4591, 4597, 4603, 4621, 4637, 4639, 4643, 4649, 4651, 4657, 4663, 4673, 4679, 4691, 4703, 4721, 4723, 4729, 4733, 4751, 4759, 4783, 4787, 4789, 4793, 4799, 4801, 4813, 4817, 4831, 4861, 4871, 4877, 4889, 4903, 4909, 4919, 4931, 4933, 4937, 4943, 4951, 4957, 4967, 4969, 4973, 4987, 4993, 4999, 5003, 5009, 5011, 5021, 5023, 5039, 5051, 5059, 5077, 5081, 5087, 5099, 5101, 5107, 5113, 5119, 5147, 5153, 5167, 5171, 5179, 5189, 5197, 5209, 5227, 5231, 5233, 5237, 5261, 5273, 5279, 5281, 5297, 5303, 5309, 5323, 5333, 5347, 5351, 5381, 5387, 5393, 5399, 5407, 5413, 5417, 5419, 5431, 5437, 5441, 5443, 5449, 5471, 5477, 5479, 5483, 5501, 5503, 5507, 5519, 5521, 5527, 5531, 5557, 5563, 5569, 5573, 5581, 5591, 5623, 5639, 5641, 5647, 5651, 5653, 5657, 5659, 5669, 5683, 5689, 5693, 5701, 5711, 5717, 5737, 5741, 5743, 5749, 5779, 5783, 5791, 5801, 5807, 5813, 5821, 5827, 5839, 5843, 5849, 5851, 5857, 5861, 5867, 5869, 5879, 5881, 5897, 5903, 5923, 5927, 5939, 5953, 5981, 5987, 6007, 6011, 6029, 6037, 6043, 6047, 6053, 6067, 6073, 6079, 6089, 6091, 6101, 6113, 6121, 6131, 6133, 6143, 6151, 6163, 6173, 6197, 6199, 6203, 6211, 6217, 6221, 6229, 6247, 6257, 6263, 6269, 6271, 6277, 6287, 6299, 6301, 6311, 6317, 6323, 6329, 6337, 6343, 6353, 6359, 6361, 6367, 6373, 6379, 6389, 6397, 6421, 6427, 6449, 6451, 6469, 6473, 6481, 6491, 6521, 6529, 6547, 6551, 6553, 6563, 6569, 6571, 6577, 6581, 6599, 6607, 6619, 6637, 6653, 6659, 6661, 6673, 6679, 6689, 6691, 6701, 6703, 6709, 6719, 6733, 6737, 6761, 6763, 6779, 6781, 6791, 6793, 6803, 6823, 6827, 6829, 6833, 6841, 6857, 6863, 6869, 6871, 6883, 6899, 6907, 6911, 6917, 6947, 6949, 6959, 6961, 6967, 6971, 6977, 6983, 6991, 6997, 7001, 7013, 7019, 7027, 7039, 7043, 7057, 7069, 7079, 7103, 7109, 7121, 7127, 7129, 7151, 7159, 7177, 7187, 7193, 7207, 7211, 7213, 7219, 7229, 7237, 7243, 7247, 7253, 7283, 7297, 7307, 7309, 7321, 7331, 7333, 7349, 7351, 7369, 7393, 7411, 7417, 7433, 7451, 7457, 7459, 7477, 7481, 7487, 7489, 7499, 7507, 7517, 7523, 7529, 7537, 7541, 7547, 7549, 7559, 7561, 7573, 7577, 7583, 7589, 7591, 7603, 7607, 7621, 7639, 7643, 7649, 7669, 7673, 7681, 7687, 7691, 7699, 7703, 7717, 7723, 7727, 7741, 7753, 7757, 7759, 7789, 7793, 7817, 7823, 7829, 7841, 7853, 7867, 7873, 7877, 7879, 7883, 7901, 7907, 7919, 7927, 7933, 7937, 7949, 7951, 7963, 7993, 8009, 8011, 8017, 8039, 8053, 8059, 8069, 8081, 8087, 8089, 8093, 8101, 8111, 8117, 8123, 8147, 8161, 8167, 8171, 8179, 8191, 8209, 8219, 8221, 8231, 8233, 8237, 8243, 8263, 8269, 8273, 8287, 8291, 8293, 8297, 8311, 8317, 8329, 8353, 8363, 8369, 8377, 8387, 8389, 8419, 8423, 8429, 8431, 8443, 8447, 8461, 8467, 8501, 8513, 8521, 8527, 8537, 8539, 8543, 8563, 8573, 8581, 8597, 8599, 8609, 8623, 8627, 8629, 8641, 8647, 8663, 8669, 8677, 8681, 8689, 8693, 8699, 8707, 8713, 8719, 8731, 8737, 8741, 8747, 8753, 8761, 8779, 8783, 8803, 8807, 8819, 8821, 8831, 8837, 8839, 8849, 8861, 8863, 8867, 8887, 8893, 8923, 8929, 8933, 8941, 8951, 8963, 8969, 8971, 8999, 9001, 9007, 9011, 9013, 9029, 9041, 9043, 9049, 9059, 9067, 9091, 9103, 9109, 9127, 9133, 9137, 9151, 9157, 9161, 9173, 9181, 9187, 9199, 9203, 9209, 9221, 9227, 9239, 9241, 9257, 9277, 9281, 9283, 9293, 9311, 9319, 9323, 9337, 9341, 9343, 9349, 9371, 9377, 9391, 9397, 9403, 9413, 9419, 9421, 9431, 9433, 9437, 9439, 9461, 9463, 9467, 9473, 9479, 9491, 9497, 9511, 9521, 9533, 9539, 9547, 9551, 9587, 9601, 9613, 9619, 9623, 9629, 9631, 9643, 9649, 9661, 9677, 9679, 9689, 9697, 9719, 9721, 9733, 9739, 9743, 9749, 9767, 9769, 9781, 9787, 9791, 9803, 9811, 9817, 9829, 9833, 9839, 9851, 9857, 9859, 9871, 9883, 9887, 9901, 9907, 9923, 9929, 9931, 9941, 9949, 9967, 9973]\n"
          ]
        }
      ],
      "source": [
        "# Criba de Erastótenes\n",
        "# Escribe a ti tu código\n",
        "import math\n",
        "\n",
        "n = 10001\n",
        "lista = [ i for i in range(2,n)]\n",
        "lista_primos = lista\n",
        "\n",
        "limite = math.trunc(n**0.5)\n",
        "\n",
        "for i in range(2,limite):\n",
        "  for j in range(2,len(lista)):\n",
        "    aux = i*j\n",
        "    if aux in lista_primos:\n",
        "      lista_primos.remove(i*j)\n",
        "\n",
        "print(lista_primos)"
      ]
    },
    {
      "cell_type": "markdown",
      "source": [
        "Reto VC-2\n",
        "\n",
        "Resolver el problema de las Torres de Hanoi para un número arbitrario de fichas."
      ],
      "metadata": {
        "id": "KMliBOu5Y0h3"
      }
    },
    {
      "cell_type": "code",
      "source": [
        "def mover(a,b):\n",
        "  print('Mover ',a, ' a ', b)\n",
        "\n",
        "def TorredeHanoi(n,A,B,C):\n",
        "  if n==1:\n",
        "    mover(A,C)\n",
        "  else:\n",
        "    TorredeHanoi(n-1,A,C,B)\n",
        "    mover(A,C)\n",
        "    TorredeHanoi(n-1,B,A,C)\n",
        "\n",
        "n = int((input('Ingrese número de discos: ')))\n",
        "TorredeHanoi(n,'A','B','C')"
      ],
      "metadata": {
        "id": "pJ3BqgKfHcEs",
        "colab": {
          "base_uri": "https://localhost:8080/"
        },
        "outputId": "010194cf-31b5-48a6-8968-d68cbe96bce6"
      },
      "execution_count": null,
      "outputs": [
        {
          "output_type": "stream",
          "name": "stdout",
          "text": [
            "Ingrese número de discos: 5\n",
            "Mover  A  a  C\n",
            "Mover  A  a  B\n",
            "Mover  C  a  B\n",
            "Mover  A  a  C\n",
            "Mover  B  a  A\n",
            "Mover  B  a  C\n",
            "Mover  A  a  C\n",
            "Mover  A  a  B\n",
            "Mover  C  a  B\n",
            "Mover  C  a  A\n",
            "Mover  B  a  A\n",
            "Mover  C  a  B\n",
            "Mover  A  a  C\n",
            "Mover  A  a  B\n",
            "Mover  C  a  B\n",
            "Mover  A  a  C\n",
            "Mover  B  a  A\n",
            "Mover  B  a  C\n",
            "Mover  A  a  C\n",
            "Mover  B  a  A\n",
            "Mover  C  a  B\n",
            "Mover  C  a  A\n",
            "Mover  B  a  A\n",
            "Mover  B  a  C\n",
            "Mover  A  a  C\n",
            "Mover  A  a  B\n",
            "Mover  C  a  B\n",
            "Mover  A  a  C\n",
            "Mover  B  a  A\n",
            "Mover  B  a  C\n",
            "Mover  A  a  C\n"
          ]
        }
      ]
    },
    {
      "cell_type": "markdown",
      "source": [
        "Reto VC-2\n",
        "\n",
        "Opción 1: Implementa una solución al problema de las 8 reinas en un tablero 8x8"
      ],
      "metadata": {
        "id": "RYqRPzTvpicN"
      }
    },
    {
      "cell_type": "code",
      "source": [
        "def verifica_posicion(fila,col,reinas):\n",
        "  for r in range(fila):\n",
        "    if col == reinas[r]: return False                            # verifica que no hayan reinas en la misma columna\n",
        "    elif abs(col-reinas[r]) == abs(fila-r):return False          # verifica que no hayan reinas en la diagonal\n",
        "  return True\n",
        "\n",
        "def colocar_reina(fila,reinas,n):                                #implementa recursividad\n",
        "  if fila == n:                                                  #cuando la fila es n quiere decir que se pudo colocar una reina en esta posición\n",
        "    print(reinas)\n",
        "    return 1                                                     # retorna el valor 1 cuando recorre todo el arreglo\n",
        "  else:\n",
        "    total_sol = 0\n",
        "    for col in range(n):\n",
        "      if verifica_posicion(fila,col,reinas):                     #evalua si la reina puede ser colocada\n",
        "        reinas[fila] = col                                       #en caso de que se pueda, en la posicion 'row' se coloca el numero de columna a ocupar por la reina\n",
        "        total_sol += colocar_reina(fila+1,reinas,n)              #vuelve a llamar a la funcion pero incrementando el numero de la fila en 1\n",
        "    return total_sol\n",
        "\n",
        "def n_reinas(n):\n",
        "  reinas = [' ']*n                                               # crea lista de solucion\n",
        "  fila = 0\n",
        "  return colocar_reina(fila,reinas,n)                            #funcion que coloca reinas\n",
        "\n",
        "n_reinas(8)"
      ],
      "metadata": {
        "colab": {
          "base_uri": "https://localhost:8080/"
        },
        "id": "BY2xcMGXIsuD",
        "outputId": "a8e4716f-31b0-4c63-de53-3ac1db71c5d4"
      },
      "execution_count": null,
      "outputs": [
        {
          "output_type": "stream",
          "name": "stdout",
          "text": [
            "[0, 4, 7, 5, 2, 6, 1, 3]\n",
            "[0, 5, 7, 2, 6, 3, 1, 4]\n",
            "[0, 6, 3, 5, 7, 1, 4, 2]\n",
            "[0, 6, 4, 7, 1, 3, 5, 2]\n",
            "[1, 3, 5, 7, 2, 0, 6, 4]\n",
            "[1, 4, 6, 0, 2, 7, 5, 3]\n",
            "[1, 4, 6, 3, 0, 7, 5, 2]\n",
            "[1, 5, 0, 6, 3, 7, 2, 4]\n",
            "[1, 5, 7, 2, 0, 3, 6, 4]\n",
            "[1, 6, 2, 5, 7, 4, 0, 3]\n",
            "[1, 6, 4, 7, 0, 3, 5, 2]\n",
            "[1, 7, 5, 0, 2, 4, 6, 3]\n",
            "[2, 0, 6, 4, 7, 1, 3, 5]\n",
            "[2, 4, 1, 7, 0, 6, 3, 5]\n",
            "[2, 4, 1, 7, 5, 3, 6, 0]\n",
            "[2, 4, 6, 0, 3, 1, 7, 5]\n",
            "[2, 4, 7, 3, 0, 6, 1, 5]\n",
            "[2, 5, 1, 4, 7, 0, 6, 3]\n",
            "[2, 5, 1, 6, 0, 3, 7, 4]\n",
            "[2, 5, 1, 6, 4, 0, 7, 3]\n",
            "[2, 5, 3, 0, 7, 4, 6, 1]\n",
            "[2, 5, 3, 1, 7, 4, 6, 0]\n",
            "[2, 5, 7, 0, 3, 6, 4, 1]\n",
            "[2, 5, 7, 0, 4, 6, 1, 3]\n",
            "[2, 5, 7, 1, 3, 0, 6, 4]\n",
            "[2, 6, 1, 7, 4, 0, 3, 5]\n",
            "[2, 6, 1, 7, 5, 3, 0, 4]\n",
            "[2, 7, 3, 6, 0, 5, 1, 4]\n",
            "[3, 0, 4, 7, 1, 6, 2, 5]\n",
            "[3, 0, 4, 7, 5, 2, 6, 1]\n",
            "[3, 1, 4, 7, 5, 0, 2, 6]\n",
            "[3, 1, 6, 2, 5, 7, 0, 4]\n",
            "[3, 1, 6, 2, 5, 7, 4, 0]\n",
            "[3, 1, 6, 4, 0, 7, 5, 2]\n",
            "[3, 1, 7, 4, 6, 0, 2, 5]\n",
            "[3, 1, 7, 5, 0, 2, 4, 6]\n",
            "[3, 5, 0, 4, 1, 7, 2, 6]\n",
            "[3, 5, 7, 1, 6, 0, 2, 4]\n",
            "[3, 5, 7, 2, 0, 6, 4, 1]\n",
            "[3, 6, 0, 7, 4, 1, 5, 2]\n",
            "[3, 6, 2, 7, 1, 4, 0, 5]\n",
            "[3, 6, 4, 1, 5, 0, 2, 7]\n",
            "[3, 6, 4, 2, 0, 5, 7, 1]\n",
            "[3, 7, 0, 2, 5, 1, 6, 4]\n",
            "[3, 7, 0, 4, 6, 1, 5, 2]\n",
            "[3, 7, 4, 2, 0, 6, 1, 5]\n",
            "[4, 0, 3, 5, 7, 1, 6, 2]\n",
            "[4, 0, 7, 3, 1, 6, 2, 5]\n",
            "[4, 0, 7, 5, 2, 6, 1, 3]\n",
            "[4, 1, 3, 5, 7, 2, 0, 6]\n",
            "[4, 1, 3, 6, 2, 7, 5, 0]\n",
            "[4, 1, 5, 0, 6, 3, 7, 2]\n",
            "[4, 1, 7, 0, 3, 6, 2, 5]\n",
            "[4, 2, 0, 5, 7, 1, 3, 6]\n",
            "[4, 2, 0, 6, 1, 7, 5, 3]\n",
            "[4, 2, 7, 3, 6, 0, 5, 1]\n",
            "[4, 6, 0, 2, 7, 5, 3, 1]\n",
            "[4, 6, 0, 3, 1, 7, 5, 2]\n",
            "[4, 6, 1, 3, 7, 0, 2, 5]\n",
            "[4, 6, 1, 5, 2, 0, 3, 7]\n",
            "[4, 6, 1, 5, 2, 0, 7, 3]\n",
            "[4, 6, 3, 0, 2, 7, 5, 1]\n",
            "[4, 7, 3, 0, 2, 5, 1, 6]\n",
            "[4, 7, 3, 0, 6, 1, 5, 2]\n",
            "[5, 0, 4, 1, 7, 2, 6, 3]\n",
            "[5, 1, 6, 0, 2, 4, 7, 3]\n",
            "[5, 1, 6, 0, 3, 7, 4, 2]\n",
            "[5, 2, 0, 6, 4, 7, 1, 3]\n",
            "[5, 2, 0, 7, 3, 1, 6, 4]\n",
            "[5, 2, 0, 7, 4, 1, 3, 6]\n",
            "[5, 2, 4, 6, 0, 3, 1, 7]\n",
            "[5, 2, 4, 7, 0, 3, 1, 6]\n",
            "[5, 2, 6, 1, 3, 7, 0, 4]\n",
            "[5, 2, 6, 1, 7, 4, 0, 3]\n",
            "[5, 2, 6, 3, 0, 7, 1, 4]\n",
            "[5, 3, 0, 4, 7, 1, 6, 2]\n",
            "[5, 3, 1, 7, 4, 6, 0, 2]\n",
            "[5, 3, 6, 0, 2, 4, 1, 7]\n",
            "[5, 3, 6, 0, 7, 1, 4, 2]\n",
            "[5, 7, 1, 3, 0, 6, 4, 2]\n",
            "[6, 0, 2, 7, 5, 3, 1, 4]\n",
            "[6, 1, 3, 0, 7, 4, 2, 5]\n",
            "[6, 1, 5, 2, 0, 3, 7, 4]\n",
            "[6, 2, 0, 5, 7, 4, 1, 3]\n",
            "[6, 2, 7, 1, 4, 0, 5, 3]\n",
            "[6, 3, 1, 4, 7, 0, 2, 5]\n",
            "[6, 3, 1, 7, 5, 0, 2, 4]\n",
            "[6, 4, 2, 0, 5, 7, 1, 3]\n",
            "[7, 1, 3, 0, 6, 4, 2, 5]\n",
            "[7, 1, 4, 2, 0, 6, 3, 5]\n",
            "[7, 2, 0, 5, 1, 4, 6, 3]\n",
            "[7, 3, 0, 2, 5, 1, 6, 4]\n"
          ]
        },
        {
          "output_type": "execute_result",
          "data": {
            "text/plain": [
              "92"
            ]
          },
          "metadata": {},
          "execution_count": 8
        }
      ]
    },
    {
      "cell_type": "code",
      "source": [
        "reina = '♕'\n",
        "\n",
        "tablero = []\n",
        "vector_soln = []\n",
        "for i in range(8):\n",
        "    tablero.append(['▢'] * 8)\n",
        "#agregar_reina(8)\n",
        "for row in tablero:\n",
        "    print(*row)\n",
        "vector_soln\n",
        "\n",
        "tablero[1][1] = reina\n",
        "tablero"
      ],
      "metadata": {
        "id": "nJ9-GQ9MZ1YI"
      },
      "execution_count": null,
      "outputs": []
    },
    {
      "cell_type": "markdown",
      "source": [
        "Reto VC-3\n",
        "\n",
        "Implementa el descenso del gradiente para la regresión lineal"
      ],
      "metadata": {
        "id": "H050W9KpzThz"
      }
    },
    {
      "cell_type": "code",
      "source": [
        "#========================== IMPORTS ==========================\n",
        "import numpy as np\n",
        "import random\n",
        "import matplotlib.pyplot as plt\n",
        "#========================== FUNCIONES ==========================\n",
        "def grad_f2(x,y,x_n):\n",
        "  grad_f = [np.sum(2*x_n[0]*(np.array(x)**2) - 2*np.array(x)*np.array(y) + 2*x_n[1]*np.array(x)),\n",
        "            np.sum(2*x_n[0]*(np.array(x)) - 2*np.array(y) + 2*x_n[1])]\n",
        "  return grad_f\n",
        "#---------------------------------------------------------------\n",
        "def funcion_de_costo(x,y,x_n):\n",
        "    fdc = np.sum((np.array(y) - np.array(x) * x_n[0] - np.array(x) * x_n[1])**2)\n",
        "    return fdc\n",
        "#---------------------------------------------------------------\n",
        "def des_grad2(gamma,tol,maxit,x0,x,y):\n",
        "  x_n = []\n",
        "  x_n.append(x0)      #en el vector x_n se encuentran los valores de w y b. x_n[0] = w, x_n[1] = b      Estos son los 2 valores que tengo que optimizar\n",
        "  x_fc = []\n",
        "\n",
        "  for i in range(0,maxit,1):\n",
        "\n",
        "    x_n.append( [x_n[i][0] - gamma * grad_f2(x,y,x_n[i])[0],\n",
        "                 x_n[i][1] - gamma * grad_f2(x,y,x_n[i])[1]])\n",
        "    x_fc.append(funcion_de_costo(x,y,x_n[i]))\n",
        "\n",
        "    if i == 0:\n",
        "      error = x_fc[i]\n",
        "    else:\n",
        "      error = abs(x_fc[i] - x_fc[i-1])\n",
        "\n",
        "    if error<tol:\n",
        "      print('Se ha minimizado el error con un valor de: ', error, '.\\nEl punto crítico hallado es en x = ', x_n[i])\n",
        "      return x_n\n",
        "  return x_n, error, 'No se ha alcanzado la convergencia, el ultimo valor obtenido es de: ', x_n[i], 'con un error de: ', error\n",
        "\n",
        "#---------------------------------------------------------------\n",
        "def f(x): return x*2\n",
        "#---------------------------------------------------------------\n",
        "def f_opt(w,b,x): return w*x+b\n",
        "#========================== INPUTS ==========================\n",
        "\n",
        "gamma = 0.01\n",
        "tol = 0.0001\n",
        "maxit = 100000\n",
        "\n",
        "x = np.random.uniform(0,1,20)\n",
        "\n",
        "w = random.random()\n",
        "b = random.random()\n",
        "x0 = [w,b]\n",
        "\n",
        "noise_variance =0.2\n",
        "noise = np.random.randn(x.shape[0])*noise_variance\n",
        "y = f(x) + noise\n",
        "\n",
        "#========================== LLAMADA A LA FUNCION ==========================\n",
        "output = des_grad2(gamma,tol,maxit,x0,x,y)\n",
        "output\n",
        "#========================== GRAFICAS DE LAS FUNCIONES ==========================\n",
        "\n",
        "y_opt = output[-1][0] * x + output[-1][1]\n",
        "\n",
        "plt.plot(x, y, 'o', label='y')\n",
        "plt.plot([0, 1], [f(0), f(1)], 'b-', label='f(x)')\n",
        "plt.plot(x, y_opt,label='f_opt(x)')\n",
        "plt.xlabel('$x$', fontsize=15)\n",
        "plt.ylabel('$y$', fontsize=15)\n",
        "plt.ylim([0,2])\n",
        "plt.title('inputs (x) vs targets (y)')\n",
        "plt.grid()\n",
        "plt.legend(loc=2)\n",
        "plt.gcf().set_size_inches((10,6))\n",
        "plt.show()"
      ],
      "metadata": {
        "colab": {
          "base_uri": "https://localhost:8080/",
          "height": 605
        },
        "id": "GMCwov0MM4Z8",
        "outputId": "15888205-b13e-4703-b6bb-ac0dedc3c505"
      },
      "execution_count": null,
      "outputs": [
        {
          "output_type": "stream",
          "name": "stdout",
          "text": [
            "Se ha minimizado el error con un valor de:  9.959800794434592e-05 .\n",
            "El punto crítico hallado es en x =  [2.026274432233824, 0.037728611511148154]\n"
          ]
        },
        {
          "output_type": "display_data",
          "data": {
            "text/plain": [
              "<Figure size 1000x600 with 1 Axes>"
            ],
            "image/png": "[encoded data removed]"
          },
          "metadata": {}
        }
      ]
    },
    {
      "cell_type": "markdown",
      "source": [
        "Reto 8:\n",
        "Mejorar la implementación de recocido simulado en la AG3 (TSP) eligiendo una generación de solución vecina con un grado de aleatoriedad menor (función genera_vecino_aleatorio())."
      ],
      "metadata": {
        "id": "CraDMiYZsSRG"
      }
    },
    {
      "cell_type": "code",
      "source": [
        "!pip install requests    #Hacer llamadas http a paginas de la red\n",
        "!pip install tsplib95    #Modulo para las instancias del problema del TSP"
      ],
      "metadata": {
        "colab": {
          "base_uri": "https://localhost:8080/"
        },
        "id": "5cUcsJmVtADw",
        "outputId": "a4bb6ab4-d042-44e2-ede9-e6411eaa8ae2"
      },
      "execution_count": null,
      "outputs": [
        {
          "output_type": "stream",
          "name": "stdout",
          "text": [
            "Requirement already satisfied: requests in /usr/local/lib/python3.10/dist-packages (2.27.1)\n",
            "Requirement already satisfied: urllib3<1.27,>=1.21.1 in /usr/local/lib/python3.10/dist-packages (from requests) (1.26.16)\n",
            "Requirement already satisfied: certifi>=2017.4.17 in /usr/local/lib/python3.10/dist-packages (from requests) (2023.5.7)\n",
            "Requirement already satisfied: charset-normalizer~=2.0.0 in /usr/local/lib/python3.10/dist-packages (from requests) (2.0.12)\n",
            "Requirement already satisfied: idna<4,>=2.5 in /usr/local/lib/python3.10/dist-packages (from requests) (3.4)\n",
            "Collecting tsplib95\n",
            "  Downloading tsplib95-0.7.1-py2.py3-none-any.whl (25 kB)\n",
            "Requirement already satisfied: Click>=6.0 in /usr/local/lib/python3.10/dist-packages (from tsplib95) (8.1.6)\n",
            "Collecting Deprecated~=1.2.9 (from tsplib95)\n",
            "  Downloading Deprecated-1.2.14-py2.py3-none-any.whl (9.6 kB)\n",
            "Collecting networkx~=2.1 (from tsplib95)\n",
            "  Downloading networkx-2.8.8-py3-none-any.whl (2.0 MB)\n",
            "\u001b[2K     \u001b[90m━━━━━━━━━━━━━━━━━━━━━━━━━━━━━━━━━━━━━━━━\u001b[0m \u001b[32m2.0/2.0 MB\u001b[0m \u001b[31m9.7 MB/s\u001b[0m eta \u001b[36m0:00:00\u001b[0m\n",
            "\u001b[?25hCollecting tabulate~=0.8.7 (from tsplib95)\n",
            "  Downloading tabulate-0.8.10-py3-none-any.whl (29 kB)\n",
            "Requirement already satisfied: wrapt<2,>=1.10 in /usr/local/lib/python3.10/dist-packages (from Deprecated~=1.2.9->tsplib95) (1.14.1)\n",
            "Installing collected packages: tabulate, networkx, Deprecated, tsplib95\n",
            "  Attempting uninstall: tabulate\n",
            "    Found existing installation: tabulate 0.9.0\n",
            "    Uninstalling tabulate-0.9.0:\n",
            "      Successfully uninstalled tabulate-0.9.0\n",
            "  Attempting uninstall: networkx\n",
            "    Found existing installation: networkx 3.1\n",
            "    Uninstalling networkx-3.1:\n",
            "      Successfully uninstalled networkx-3.1\n",
            "Successfully installed Deprecated-1.2.14 networkx-2.8.8 tabulate-0.8.10 tsplib95-0.7.1\n"
          ]
        }
      ]
    },
    {
      "cell_type": "code",
      "source": [
        "import urllib.request #Hacer llamadas http a paginas de la red\n",
        "import tsplib95       #Modulo para las instancias del problema del TSP\n",
        "import math           #Modulo de funciones matematicas. Se usa para exp\n",
        "import random                     #Para generar valores aleatorios\n",
        "\n",
        "#Descargamos el fichero de datos(Matriz de distancias)\n",
        "file = \"swiss42.tsp\" ;\n",
        "urllib.request.urlretrieve(\"http://comopt.ifi.uni-heidelberg.de/software/TSPLIB95/tsp/swiss42.tsp.gz\", file + '.gz')\n",
        "!gzip -d swiss42.tsp.gz     #Descomprimir el fichero de datos\n"
      ],
      "metadata": {
        "id": "7iSRWb6ds-j4"
      },
      "execution_count": null,
      "outputs": []
    },
    {
      "cell_type": "code",
      "source": [
        "#Carga de datos y generación de objeto problem\n",
        "###############################################################################\n",
        "problem = tsplib95.load(file)\n",
        "\n",
        "#Nodos\n",
        "Nodos = list(problem.get_nodes())\n",
        "\n",
        "#Aristas\n",
        "Aristas = list(problem.get_edges())"
      ],
      "metadata": {
        "id": "NXSZJvThs8EV"
      },
      "execution_count": null,
      "outputs": []
    },
    {
      "cell_type": "code",
      "source": [
        "#Funcionas basicas\n",
        "###############################################################################\n",
        "\n",
        "#Se genera una solucion aleatoria con comienzo en en el nodo 0\n",
        "def crear_solucion(Nodos):\n",
        "  solucion = [Nodos[0]]\n",
        "  for n in Nodos[1:]:\n",
        "    solucion = solucion + [random.choice(list(set(Nodos) - set({Nodos[0]}) - set(solucion)))]\n",
        "  return solucion\n",
        "\n",
        "#Devuelve la distancia entre dos nodos\n",
        "def distancia(a,b, problem):\n",
        "  return problem.get_weight(a,b)\n",
        "\n",
        "#Devuelve la distancia total de una trayectoria/solucion\n",
        "def distancia_total(solucion, problem):\n",
        "  distancia_total = 0\n",
        "  for i in range(len(solucion)-1):\n",
        "    distancia_total += distancia(solucion[i] ,solucion[i+1] ,  problem)\n",
        "  return distancia_total + distancia(solucion[len(solucion)-1] ,solucion[0], problem)"
      ],
      "metadata": {
        "id": "KEWpekTOtTE2"
      },
      "execution_count": null,
      "outputs": []
    },
    {
      "cell_type": "markdown",
      "source": [
        "**=====================================================================================================**\n",
        "\n",
        "**La nueva función propuesta para elegir vecinos con menor grado de aleatoriedad se encuentra a continuación:**"
      ],
      "metadata": {
        "id": "Msh2sTCqtm2n"
      }
    },
    {
      "cell_type": "code",
      "source": [
        "#NUEVA FUNCION PROPUESTA PARA ELEGIR VECINOS CON MENOR GRADO DE ALEATORIEDAD:\n",
        "def genera_vecina_aleatorio(solucion,contador):\n",
        "\n",
        "  i = contador\n",
        "  j = i + 1\n",
        "  #print(i,j)\n",
        "\n",
        "  #Devuelve una nueva solución pero intercambiando dos nodos\n",
        "  return solucion[:i] + [solucion[j]] + solucion[i+1:j] + [solucion[i]] + solucion[j+1:]"
      ],
      "metadata": {
        "id": "aSW3v3y1tmZC"
      },
      "execution_count": null,
      "outputs": []
    },
    {
      "cell_type": "markdown",
      "source": [
        "**=====================================================================================================**"
      ],
      "metadata": {
        "id": "ati70Szbt5Qe"
      }
    },
    {
      "cell_type": "code",
      "source": [
        "###############################################################################\n",
        "# SIMULATED ANNEALING\n",
        "###############################################################################\n",
        "\n",
        "#Funcion de probabilidad para aceptar peores soluciones\n",
        "def probabilidad(T,d):\n",
        "  if random.random() <  math.exp( -1*d / T)  :\n",
        "    return True\n",
        "  else:\n",
        "    return False\n",
        "\n",
        "#Funcion de descenso de temperatura\n",
        "def bajar_temperatura(T):\n",
        "  return T*0.99\n",
        "\n",
        "def recocido_simulado(problem, TEMPERATURA ):\n",
        "  #problem = datos del problema\n",
        "  #T = Temperatura\n",
        "\n",
        "  solucion_referencia = crear_solucion(Nodos)\n",
        "  distancia_referencia = distancia_total(solucion_referencia, problem)\n",
        "\n",
        "  mejor_solucion = []             #x* del seudocodigo\n",
        "  mejor_distancia = 10e100        #F* del seudocodigo\n",
        "\n",
        "  contador = 0\n",
        "  N=0\n",
        "  while TEMPERATURA > .0001:\n",
        "    N+=1\n",
        "\n",
        "    #------------------------------------------\n",
        "    # Definir el número máximo para reiniciar el contador\n",
        "    maximo = len(solucion_referencia)-1\n",
        "    contador += 1\n",
        "\n",
        "    # Reiniciar el contador cuando llega al valor máximo\n",
        "    if contador >= maximo:\n",
        "        contador = 0\n",
        "    #------------------------------------------\n",
        "\n",
        "    #Genera una solución vecina\n",
        "    vecina =genera_vecina_aleatorio(solucion_referencia,contador)\n",
        "\n",
        "    #Calcula su valor(distancia)\n",
        "    distancia_vecina = distancia_total(vecina, problem)\n",
        "\n",
        "    #Si es la mejor solución de todas se guarda(siempre!!!)\n",
        "    if distancia_vecina < mejor_distancia:\n",
        "        mejor_solucion = vecina\n",
        "        mejor_distancia = distancia_vecina\n",
        "\n",
        "    #Si la nueva vecina es mejor se cambia\n",
        "    #Si es peor se cambia según una probabilidad que depende de T y delta(distancia_referencia - distancia_vecina)\n",
        "    if distancia_vecina < distancia_referencia or probabilidad(TEMPERATURA, abs(distancia_referencia - distancia_vecina) ) :\n",
        "      #solucion_referencia = copy.deepcopy(vecina)\n",
        "      solucion_referencia = vecina\n",
        "      distancia_referencia = distancia_vecina\n",
        "\n",
        "    #Bajamos la temperatura\n",
        "    TEMPERATURA = bajar_temperatura(TEMPERATURA)\n",
        "\n",
        "  print(\"La mejor solución encontrada es \" , end=\"\")\n",
        "  print(mejor_solucion)\n",
        "  print(\"con una distancia total de \" , end=\"\")\n",
        "  print(mejor_distancia)\n",
        "  return mejor_solucion\n",
        "\n",
        "sol  = recocido_simulado(problem, 10000000)"
      ],
      "metadata": {
        "colab": {
          "base_uri": "https://localhost:8080/"
        },
        "id": "ivvx2Ucfsy3Q",
        "outputId": "e4424abd-69df-4819-ec40-2b9dc7fc061a"
      },
      "execution_count": null,
      "outputs": [
        {
          "output_type": "stream",
          "name": "stdout",
          "text": [
            "La mejor solución encontrada es [8, 10, 2, 5, 17, 30, 38, 24, 41, 12, 28, 32, 31, 7, 37, 15, 19, 25, 23, 29, 22, 21, 26, 13, 6, 1, 27, 34, 36, 0, 3, 4, 11, 40, 39, 18, 14, 16, 35, 20, 33, 9]\n",
            "con una distancia total de 3114\n"
          ]
        }
      ]
    }
  ]
}